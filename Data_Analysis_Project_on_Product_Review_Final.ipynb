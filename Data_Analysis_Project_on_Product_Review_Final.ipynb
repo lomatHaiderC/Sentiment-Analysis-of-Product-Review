{
  "cells": [
    {
      "cell_type": "markdown",
      "metadata": {
        "id": "view-in-github",
        "colab_type": "text"
      },
      "source": [
        "<a href=\"https://colab.research.google.com/github/lomatHaiderC/Sentiment-Analysis-of-Product-Review/blob/main/Data_Analysis_Project_on_Product_Review_Final.ipynb\" target=\"_parent\"><img src=\"https://colab.research.google.com/assets/colab-badge.svg\" alt=\"Open In Colab\"/></a>"
      ]
    },
    {
      "cell_type": "code",
      "source": [
        "from google.colab import drive\n",
        "drive.mount('/content/drive')"
      ],
      "metadata": {
        "colab": {
          "base_uri": "https://localhost:8080/"
        },
        "id": "5ORwM2UOlm_c",
        "outputId": "2cb1cbee-37b5-4869-c671-1274c645bbca"
      },
      "execution_count": 3,
      "outputs": [
        {
          "output_type": "stream",
          "name": "stdout",
          "text": [
            "Mounted at /content/drive\n"
          ]
        }
      ]
    },
    {
      "cell_type": "markdown",
      "metadata": {
        "id": "dTysN6HjkbAi"
      },
      "source": [
        "### Bangla Sentiment Analysis (Group - 11)"
      ]
    },
    {
      "cell_type": "markdown",
      "metadata": {
        "id": "98UqeEMHkbAp"
      },
      "source": [
        "##### Imports"
      ]
    },
    {
      "cell_type": "code",
      "execution_count": 1,
      "metadata": {
        "scrolled": true,
        "id": "ElKUgZnnkbAq"
      },
      "outputs": [],
      "source": [
        "import numpy as np\n",
        "import pandas as pd\n",
        "import re, json\n",
        "\n",
        "from sklearn.preprocessing import LabelEncoder\n",
        "from sklearn.model_selection import train_test_split\n",
        "from sklearn.feature_extraction.text import TfidfVectorizer"
      ]
    },
    {
      "cell_type": "markdown",
      "metadata": {
        "id": "7HlP2fUPkbAt"
      },
      "source": [
        "##### Loading Dataset"
      ]
    },
    {
      "cell_type": "code",
      "execution_count": 4,
      "metadata": {
        "colab": {
          "base_uri": "https://localhost:8080/",
          "height": 206
        },
        "id": "XY_OeKEYkbAt",
        "outputId": "9eb4a76a-c0a5-4bbb-cbe7-8265aba50641"
      },
      "outputs": [
        {
          "output_type": "execute_result",
          "data": {
            "text/plain": [
              "  Sentiment                                             Review\n",
              "0  Positive                      দাম অনুযায়ী প্রোডাক্ট ঠিক আছে\n",
              "1   Neutral  কিন্তু ওড়না পর্যন্ত সেলাই করে নিতে হবে সেটা আগ...\n",
              "2  Negative                            প্রোডাক্টের মান ভালো না\n",
              "3  Negative                                      কাপড়ে দাগ ছিল\n",
              "4  Negative               তাছাড়া ছবিতে যেমটা বাস্তবে তেমনটা নয়"
            ],
            "text/html": [
              "\n",
              "  <div id=\"df-0e7a1674-ef66-42d0-979c-fe9781f60ba9\">\n",
              "    <div class=\"colab-df-container\">\n",
              "      <div>\n",
              "<style scoped>\n",
              "    .dataframe tbody tr th:only-of-type {\n",
              "        vertical-align: middle;\n",
              "    }\n",
              "\n",
              "    .dataframe tbody tr th {\n",
              "        vertical-align: top;\n",
              "    }\n",
              "\n",
              "    .dataframe thead th {\n",
              "        text-align: right;\n",
              "    }\n",
              "</style>\n",
              "<table border=\"1\" class=\"dataframe\">\n",
              "  <thead>\n",
              "    <tr style=\"text-align: right;\">\n",
              "      <th></th>\n",
              "      <th>Sentiment</th>\n",
              "      <th>Review</th>\n",
              "    </tr>\n",
              "  </thead>\n",
              "  <tbody>\n",
              "    <tr>\n",
              "      <th>0</th>\n",
              "      <td>Positive</td>\n",
              "      <td>দাম অনুযায়ী প্রোডাক্ট ঠিক আছে</td>\n",
              "    </tr>\n",
              "    <tr>\n",
              "      <th>1</th>\n",
              "      <td>Neutral</td>\n",
              "      <td>কিন্তু ওড়না পর্যন্ত সেলাই করে নিতে হবে সেটা আগ...</td>\n",
              "    </tr>\n",
              "    <tr>\n",
              "      <th>2</th>\n",
              "      <td>Negative</td>\n",
              "      <td>প্রোডাক্টের মান ভালো না</td>\n",
              "    </tr>\n",
              "    <tr>\n",
              "      <th>3</th>\n",
              "      <td>Negative</td>\n",
              "      <td>কাপড়ে দাগ ছিল</td>\n",
              "    </tr>\n",
              "    <tr>\n",
              "      <th>4</th>\n",
              "      <td>Negative</td>\n",
              "      <td>তাছাড়া ছবিতে যেমটা বাস্তবে তেমনটা নয়</td>\n",
              "    </tr>\n",
              "  </tbody>\n",
              "</table>\n",
              "</div>\n",
              "      <button class=\"colab-df-convert\" onclick=\"convertToInteractive('df-0e7a1674-ef66-42d0-979c-fe9781f60ba9')\"\n",
              "              title=\"Convert this dataframe to an interactive table.\"\n",
              "              style=\"display:none;\">\n",
              "        \n",
              "  <svg xmlns=\"http://www.w3.org/2000/svg\" height=\"24px\"viewBox=\"0 0 24 24\"\n",
              "       width=\"24px\">\n",
              "    <path d=\"M0 0h24v24H0V0z\" fill=\"none\"/>\n",
              "    <path d=\"M18.56 5.44l.94 2.06.94-2.06 2.06-.94-2.06-.94-.94-2.06-.94 2.06-2.06.94zm-11 1L8.5 8.5l.94-2.06 2.06-.94-2.06-.94L8.5 2.5l-.94 2.06-2.06.94zm10 10l.94 2.06.94-2.06 2.06-.94-2.06-.94-.94-2.06-.94 2.06-2.06.94z\"/><path d=\"M17.41 7.96l-1.37-1.37c-.4-.4-.92-.59-1.43-.59-.52 0-1.04.2-1.43.59L10.3 9.45l-7.72 7.72c-.78.78-.78 2.05 0 2.83L4 21.41c.39.39.9.59 1.41.59.51 0 1.02-.2 1.41-.59l7.78-7.78 2.81-2.81c.8-.78.8-2.07 0-2.86zM5.41 20L4 18.59l7.72-7.72 1.47 1.35L5.41 20z\"/>\n",
              "  </svg>\n",
              "      </button>\n",
              "      \n",
              "  <style>\n",
              "    .colab-df-container {\n",
              "      display:flex;\n",
              "      flex-wrap:wrap;\n",
              "      gap: 12px;\n",
              "    }\n",
              "\n",
              "    .colab-df-convert {\n",
              "      background-color: #E8F0FE;\n",
              "      border: none;\n",
              "      border-radius: 50%;\n",
              "      cursor: pointer;\n",
              "      display: none;\n",
              "      fill: #1967D2;\n",
              "      height: 32px;\n",
              "      padding: 0 0 0 0;\n",
              "      width: 32px;\n",
              "    }\n",
              "\n",
              "    .colab-df-convert:hover {\n",
              "      background-color: #E2EBFA;\n",
              "      box-shadow: 0px 1px 2px rgba(60, 64, 67, 0.3), 0px 1px 3px 1px rgba(60, 64, 67, 0.15);\n",
              "      fill: #174EA6;\n",
              "    }\n",
              "\n",
              "    [theme=dark] .colab-df-convert {\n",
              "      background-color: #3B4455;\n",
              "      fill: #D2E3FC;\n",
              "    }\n",
              "\n",
              "    [theme=dark] .colab-df-convert:hover {\n",
              "      background-color: #434B5C;\n",
              "      box-shadow: 0px 1px 3px 1px rgba(0, 0, 0, 0.15);\n",
              "      filter: drop-shadow(0px 1px 2px rgba(0, 0, 0, 0.3));\n",
              "      fill: #FFFFFF;\n",
              "    }\n",
              "  </style>\n",
              "\n",
              "      <script>\n",
              "        const buttonEl =\n",
              "          document.querySelector('#df-0e7a1674-ef66-42d0-979c-fe9781f60ba9 button.colab-df-convert');\n",
              "        buttonEl.style.display =\n",
              "          google.colab.kernel.accessAllowed ? 'block' : 'none';\n",
              "\n",
              "        async function convertToInteractive(key) {\n",
              "          const element = document.querySelector('#df-0e7a1674-ef66-42d0-979c-fe9781f60ba9');\n",
              "          const dataTable =\n",
              "            await google.colab.kernel.invokeFunction('convertToInteractive',\n",
              "                                                     [key], {});\n",
              "          if (!dataTable) return;\n",
              "\n",
              "          const docLinkHtml = 'Like what you see? Visit the ' +\n",
              "            '<a target=\"_blank\" href=https://colab.research.google.com/notebooks/data_table.ipynb>data table notebook</a>'\n",
              "            + ' to learn more about interactive tables.';\n",
              "          element.innerHTML = '';\n",
              "          dataTable['output_type'] = 'display_data';\n",
              "          await google.colab.output.renderOutput(dataTable, element);\n",
              "          const docLink = document.createElement('div');\n",
              "          docLink.innerHTML = docLinkHtml;\n",
              "          element.appendChild(docLink);\n",
              "        }\n",
              "      </script>\n",
              "    </div>\n",
              "  </div>\n",
              "  "
            ]
          },
          "metadata": {},
          "execution_count": 4
        }
      ],
      "source": [
        "data = pd.read_excel(\"/content/drive/MyDrive/DA Project/DataWithSentiment.xlsx\")\n",
        "data.head()\n",
        "data['Review'] = data['Unnamed: 0'] \n",
        "data = data.drop(columns= ['Unnamed: 0', 'Unnamed: 1'], axis = 1)\n",
        "data.head()"
      ]
    },
    {
      "cell_type": "markdown",
      "metadata": {
        "id": "nAOv761WkbAv"
      },
      "source": [
        "##### Data Summary (High Level)"
      ]
    },
    {
      "cell_type": "code",
      "execution_count": null,
      "metadata": {
        "colab": {
          "base_uri": "https://localhost:8080/"
        },
        "id": "XdhRmvL-kbAw",
        "outputId": "b8ed6c89-8ee8-4fdc-f727-92ebbeff2de2"
      },
      "outputs": [
        {
          "output_type": "stream",
          "name": "stdout",
          "text": [
            "Data Resolution: (523, 2) \n",
            "Data Columns: Index(['Review', 'Sentiment'], dtype='object') \n",
            "\n",
            "Total Reviews: 523 \n",
            "Total Positive Reviews: 206 \n",
            "Total Negative Reviews: 76 \n",
            "Total Neutral Reviews: 241\n"
          ]
        }
      ],
      "source": [
        "print(\"Data Resolution:\", data.shape,\n",
        "      \"\\nData Columns:\", data.columns,\n",
        "      \"\\n\\nTotal Reviews:\", len(data),\n",
        "      \"\\nTotal Positive Reviews:\", len(data[data.Sentiment == 'Positive']),\n",
        "      \"\\nTotal Negative Reviews:\", len(data[data.Sentiment == 'Negative']),\n",
        "      \"\\nTotal Neutral Reviews:\", len(data[data.Sentiment == 'Neutral']))"
      ]
    },
    {
      "cell_type": "code",
      "execution_count": null,
      "metadata": {
        "id": "z1GBxYkrQoKA"
      },
      "outputs": [],
      "source": [
        "data[\"Sentiment\"] = data[\"Sentiment\"].replace(['Netural'], 'Neutral')\n",
        "data[\"Sentiment\"] = data[\"Sentiment\"].replace(['neutral'], 'Neutral')"
      ]
    },
    {
      "cell_type": "code",
      "execution_count": null,
      "metadata": {
        "id": "26gjtjdj5l0h"
      },
      "outputs": [],
      "source": [
        "group = data.groupby('Sentiment')"
      ]
    },
    {
      "cell_type": "code",
      "execution_count": null,
      "metadata": {
        "id": "y-rj2vxx5zMP"
      },
      "outputs": [],
      "source": [
        "group = group.size()"
      ]
    },
    {
      "cell_type": "code",
      "execution_count": 5,
      "metadata": {
        "id": "waWGmvznBFGm"
      },
      "outputs": [],
      "source": [
        "data[\"Sentiment\"] = data[\"Sentiment\"].replace(['Netural'], 'Neutral')\n",
        "data[\"Sentiment\"] = data[\"Sentiment\"].replace(['neutral'], 'Neutral')"
      ]
    },
    {
      "cell_type": "code",
      "execution_count": null,
      "metadata": {
        "colab": {
          "base_uri": "https://localhost:8080/",
          "height": 468
        },
        "id": "LFLsPsxO5rxV",
        "outputId": "07ff6751-787d-4021-cee2-f5d220573d58"
      },
      "outputs": [
        {
          "data": {
            "image/png": "[encoded data removed]",
            "text/plain": [
              "<Figure size 800x500 with 1 Axes>"
            ]
          },
          "metadata": {},
          "output_type": "display_data"
        }
      ],
      "source": [
        "import matplotlib.pyplot as plt\n",
        "from matplotlib.pyplot import figure\n",
        "\n",
        "fig = figure(figsize=(8, 5), dpi=100)\n",
        "ax = fig.add_subplot(111)\n",
        "target = ['Negative: 77', 'Neutral: 240','Positive: 206']\n",
        "hists = [group[0], group[1], group[2]]\n",
        "ax.bar(target,hists, color=['blue','orange'])\n",
        "plt.title(\"Frequency of different groups\")\n",
        "plt.ylabel('# of samples')\n",
        "plt.ylim(0,300)\n",
        "plt.savefig(\"FrequencyHist.jpg\")\n",
        "plt.show()"
      ]
    },
    {
      "cell_type": "code",
      "execution_count": null,
      "metadata": {
        "colab": {
          "base_uri": "https://localhost:8080/",
          "height": 770
        },
        "id": "4Xx9cxuM6Dcl",
        "outputId": "f4a07d3b-4c11-4ef7-bb75-65a15a7c022a"
      },
      "outputs": [
        {
          "data": {
            "image/png": "[encoded data removed]",
            "text/plain": [
              "<Figure size 1000x800 with 1 Axes>"
            ]
          },
          "metadata": {},
          "output_type": "display_data"
        },
        {
          "name": "stdout",
          "output_type": "stream",
          "text": [
            "Maximum Length: 27\n",
            "Minimum Length: 1\n",
            "Average Length: 9.0\n"
          ]
        }
      ],
      "source": [
        "data['ReviewLength'] = data.Review.apply(lambda x:len(x.split()))\n",
        "frequency = dict()\n",
        "for i in data.ReviewLength:\n",
        "    frequency[i] = frequency.get(i, 0)+1\n",
        "\n",
        "plt.figure(figsize=(10, 8))\n",
        "plt.bar(frequency.keys(), frequency.values(), color =\"b\")\n",
        "plt.xlim(1, 30)\n",
        "# in this notbook color is not working but it should work.\n",
        "plt.xlabel('Review Length')\n",
        "plt.ylabel('Count')\n",
        "plt.title('Length-Count Distribution')\n",
        "#plt.savefig('LengthCount.jpg')\n",
        "plt.show()  \n",
        "print(f\"Maximum Length: {max(data.ReviewLength)}\")\n",
        "print(f\"Minimum Length: {min(data.ReviewLength)}\")\n",
        "print(f\"Average Length: {round(np.mean(data.ReviewLength),0)}\")"
      ]
    },
    {
      "cell_type": "code",
      "execution_count": null,
      "metadata": {
        "colab": {
          "base_uri": "https://localhost:8080/",
          "height": 300
        },
        "id": "RvemhSdK6P1L",
        "outputId": "c68898cd-5922-45f6-a286-d1ff6a80eb74"
      },
      "outputs": [
        {
          "data": {
            "text/html": [
              "\n",
              "  <div id=\"df-bef917f1-629e-42d1-b6f3-1222f9c35adb\">\n",
              "    <div class=\"colab-df-container\">\n",
              "      <div>\n",
              "<style scoped>\n",
              "    .dataframe tbody tr th:only-of-type {\n",
              "        vertical-align: middle;\n",
              "    }\n",
              "\n",
              "    .dataframe tbody tr th {\n",
              "        vertical-align: top;\n",
              "    }\n",
              "\n",
              "    .dataframe thead th {\n",
              "        text-align: right;\n",
              "    }\n",
              "</style>\n",
              "<table border=\"1\" class=\"dataframe\">\n",
              "  <thead>\n",
              "    <tr style=\"text-align: right;\">\n",
              "      <th></th>\n",
              "      <th>ReviewLength</th>\n",
              "    </tr>\n",
              "  </thead>\n",
              "  <tbody>\n",
              "    <tr>\n",
              "      <th>count</th>\n",
              "      <td>523.000000</td>\n",
              "    </tr>\n",
              "    <tr>\n",
              "      <th>mean</th>\n",
              "      <td>8.803059</td>\n",
              "    </tr>\n",
              "    <tr>\n",
              "      <th>std</th>\n",
              "      <td>4.715816</td>\n",
              "    </tr>\n",
              "    <tr>\n",
              "      <th>min</th>\n",
              "      <td>1.000000</td>\n",
              "    </tr>\n",
              "    <tr>\n",
              "      <th>25%</th>\n",
              "      <td>5.000000</td>\n",
              "    </tr>\n",
              "    <tr>\n",
              "      <th>50%</th>\n",
              "      <td>8.000000</td>\n",
              "    </tr>\n",
              "    <tr>\n",
              "      <th>75%</th>\n",
              "      <td>11.000000</td>\n",
              "    </tr>\n",
              "    <tr>\n",
              "      <th>max</th>\n",
              "      <td>27.000000</td>\n",
              "    </tr>\n",
              "  </tbody>\n",
              "</table>\n",
              "</div>\n",
              "      <button class=\"colab-df-convert\" onclick=\"convertToInteractive('df-bef917f1-629e-42d1-b6f3-1222f9c35adb')\"\n",
              "              title=\"Convert this dataframe to an interactive table.\"\n",
              "              style=\"display:none;\">\n",
              "        \n",
              "  <svg xmlns=\"http://www.w3.org/2000/svg\" height=\"24px\"viewBox=\"0 0 24 24\"\n",
              "       width=\"24px\">\n",
              "    <path d=\"M0 0h24v24H0V0z\" fill=\"none\"/>\n",
              "    <path d=\"M18.56 5.44l.94 2.06.94-2.06 2.06-.94-2.06-.94-.94-2.06-.94 2.06-2.06.94zm-11 1L8.5 8.5l.94-2.06 2.06-.94-2.06-.94L8.5 2.5l-.94 2.06-2.06.94zm10 10l.94 2.06.94-2.06 2.06-.94-2.06-.94-.94-2.06-.94 2.06-2.06.94z\"/><path d=\"M17.41 7.96l-1.37-1.37c-.4-.4-.92-.59-1.43-.59-.52 0-1.04.2-1.43.59L10.3 9.45l-7.72 7.72c-.78.78-.78 2.05 0 2.83L4 21.41c.39.39.9.59 1.41.59.51 0 1.02-.2 1.41-.59l7.78-7.78 2.81-2.81c.8-.78.8-2.07 0-2.86zM5.41 20L4 18.59l7.72-7.72 1.47 1.35L5.41 20z\"/>\n",
              "  </svg>\n",
              "      </button>\n",
              "      \n",
              "  <style>\n",
              "    .colab-df-container {\n",
              "      display:flex;\n",
              "      flex-wrap:wrap;\n",
              "      gap: 12px;\n",
              "    }\n",
              "\n",
              "    .colab-df-convert {\n",
              "      background-color: #E8F0FE;\n",
              "      border: none;\n",
              "      border-radius: 50%;\n",
              "      cursor: pointer;\n",
              "      display: none;\n",
              "      fill: #1967D2;\n",
              "      height: 32px;\n",
              "      padding: 0 0 0 0;\n",
              "      width: 32px;\n",
              "    }\n",
              "\n",
              "    .colab-df-convert:hover {\n",
              "      background-color: #E2EBFA;\n",
              "      box-shadow: 0px 1px 2px rgba(60, 64, 67, 0.3), 0px 1px 3px 1px rgba(60, 64, 67, 0.15);\n",
              "      fill: #174EA6;\n",
              "    }\n",
              "\n",
              "    [theme=dark] .colab-df-convert {\n",
              "      background-color: #3B4455;\n",
              "      fill: #D2E3FC;\n",
              "    }\n",
              "\n",
              "    [theme=dark] .colab-df-convert:hover {\n",
              "      background-color: #434B5C;\n",
              "      box-shadow: 0px 1px 3px 1px rgba(0, 0, 0, 0.15);\n",
              "      filter: drop-shadow(0px 1px 2px rgba(0, 0, 0, 0.3));\n",
              "      fill: #FFFFFF;\n",
              "    }\n",
              "  </style>\n",
              "\n",
              "      <script>\n",
              "        const buttonEl =\n",
              "          document.querySelector('#df-bef917f1-629e-42d1-b6f3-1222f9c35adb button.colab-df-convert');\n",
              "        buttonEl.style.display =\n",
              "          google.colab.kernel.accessAllowed ? 'block' : 'none';\n",
              "\n",
              "        async function convertToInteractive(key) {\n",
              "          const element = document.querySelector('#df-bef917f1-629e-42d1-b6f3-1222f9c35adb');\n",
              "          const dataTable =\n",
              "            await google.colab.kernel.invokeFunction('convertToInteractive',\n",
              "                                                     [key], {});\n",
              "          if (!dataTable) return;\n",
              "\n",
              "          const docLinkHtml = 'Like what you see? Visit the ' +\n",
              "            '<a target=\"_blank\" href=https://colab.research.google.com/notebooks/data_table.ipynb>data table notebook</a>'\n",
              "            + ' to learn more about interactive tables.';\n",
              "          element.innerHTML = '';\n",
              "          dataTable['output_type'] = 'display_data';\n",
              "          await google.colab.output.renderOutput(dataTable, element);\n",
              "          const docLink = document.createElement('div');\n",
              "          docLink.innerHTML = docLinkHtml;\n",
              "          element.appendChild(docLink);\n",
              "        }\n",
              "      </script>\n",
              "    </div>\n",
              "  </div>\n",
              "  "
            ],
            "text/plain": [
              "       ReviewLength\n",
              "count    523.000000\n",
              "mean       8.803059\n",
              "std        4.715816\n",
              "min        1.000000\n",
              "25%        5.000000\n",
              "50%        8.000000\n",
              "75%       11.000000\n",
              "max       27.000000"
            ]
          },
          "execution_count": 15,
          "metadata": {},
          "output_type": "execute_result"
        }
      ],
      "source": [
        "data.describe()"
      ]
    },
    {
      "cell_type": "code",
      "execution_count": null,
      "metadata": {
        "colab": {
          "base_uri": "https://localhost:8080/"
        },
        "id": "1scoFE1E6VPU",
        "outputId": "33b2d1c9-367f-4a3f-e7e7-f1956a7172a8"
      },
      "outputs": [
        {
          "name": "stdout",
          "output_type": "stream",
          "text": [
            "Average Length: 8.80\n",
            "Median of Review Length: 8.00\n",
            "Standard Deviation of Review Length: 4.72\n",
            "Review Length Variance: 22.24\n",
            "Review Length Mode: 6.00\n",
            "Minimun Review Lenth: 1.00\n",
            "Maximum Review Lenth: 27.00\n",
            "Skewness of Data: 0.88\n",
            "Kurtosis of Data: 0.56\n"
          ]
        }
      ],
      "source": [
        "average = data['ReviewLength'].mean() \n",
        "print(\"Average Length: {0:.2f}\".format(average))#precision control\n",
        "\n",
        "med = data['ReviewLength'].median()  #median of a data coloumn\n",
        "print(\"Median of Review Length: {0:.2f}\".format(med))\n",
        "\n",
        "standard_deviation = data['ReviewLength'].std() #panda standard deviation\n",
        "print(\"Standard Deviation of Review Length: {0:.2f}\".format(standard_deviation))\n",
        "\n",
        "var1 = data['ReviewLength'].var() #variance\n",
        "print(\"Review Length Variance: {0:.2f}\".format(var1))\n",
        "\n",
        "md=data['ReviewLength'].mode()\n",
        "print(\"Review Length Mode: {0:.2f}\".format(md[0]))\n",
        "\n",
        "minimum = data['ReviewLength'].min() #pandas minimum value\n",
        "print(\"Minimun Review Lenth: {0:.2f}\".format(minimum))\n",
        "\n",
        "maximum = data['ReviewLength'].max() #pandas maximum value\n",
        "print(\"Maximum Review Lenth: {0:.2f}\".format(maximum))\n",
        "\n",
        "#print(data['ReviewLength'].skew())#calculating skew\n",
        "print(\"Skewness of Data: {0:.2f}\".format(data['ReviewLength'].skew()))\n",
        "\n",
        "#print(data['ReviewLength'].kurtosis())#calculating kurtosis\n",
        "print(\"Kurtosis of Data: {0:.2f}\".format(data['ReviewLength'].kurtosis()))"
      ]
    },
    {
      "cell_type": "code",
      "execution_count": null,
      "metadata": {
        "colab": {
          "base_uri": "https://localhost:8080/",
          "height": 711
        },
        "id": "0SdTzxjw60Rs",
        "outputId": "3d3c5224-86b7-4205-d911-d607ac2e34f2"
      },
      "outputs": [
        {
          "name": "stderr",
          "output_type": "stream",
          "text": [
            "<ipython-input-18-c1801caadd37>:7: UserWarning: FixedFormatter should only be used together with FixedLocator\n",
            "  ax.set_yticklabels(['Min','Q1','Median', 'Q3','Max'])\n"
          ]
        },
        {
          "data": {
            "image/png": "[encoded data removed]",
            "text/plain": [
              "<Figure size 600x800 with 1 Axes>"
            ]
          },
          "metadata": {},
          "output_type": "display_data"
        }
      ],
      "source": [
        "fig = plt.figure(figsize=(6, 8))\n",
        "ax = fig.add_subplot(111) \n",
        "\n",
        "#ax.set_title('Outliers can be seen both above and below the IQR')\n",
        "ax.boxplot(data['ReviewLength'], vert=True, manage_ticks=True)\n",
        "ax.set_ylabel('Inter Quantile Range Values')\n",
        "ax.set_yticklabels(['Min','Q1','Median', 'Q3','Max'])\n",
        "ax.set_xticklabels(['Review Length'])\n",
        "quantiles = np.quantile(data['ReviewLength'], np.array([0.00, 0.25, 0.50, 0.75, 1.00]))\n",
        "ax.hlines(quantiles, [0] * quantiles.size, [1] * quantiles.size,\n",
        "          color='b', ls='dotted')\n",
        "ax.set_xlim(0.5, 1.5)\n",
        "ax.set_yticks(quantiles)\n",
        "#plt.savefig('boxPlotWithOutliers.jpg')\n",
        "plt.show()"
      ]
    },
    {
      "cell_type": "code",
      "execution_count": null,
      "metadata": {
        "colab": {
          "base_uri": "https://localhost:8080/",
          "height": 676
        },
        "id": "PX59gBq169Vy",
        "outputId": "4ac32bcf-367d-44b3-d041-cd316571538c"
      },
      "outputs": [
        {
          "data": {
            "image/png": "[encoded data removed]",
            "text/plain": [
              "<Figure size 1000x800 with 1 Axes>"
            ]
          },
          "metadata": {},
          "output_type": "display_data"
        }
      ],
      "source": [
        "plt.figure(figsize=(10, 8))\n",
        "data['ReviewLength'].plot(kind ='box')\n",
        "#plt.savefig('boxPlotWithOutliers.jpg')\n",
        "plt.show()"
      ]
    },
    {
      "cell_type": "code",
      "execution_count": null,
      "metadata": {
        "colab": {
          "base_uri": "https://localhost:8080/"
        },
        "id": "eE8KpQO17CqZ",
        "outputId": "8a3185aa-e81b-4c79-fc00-0250f3c0e445"
      },
      "outputs": [
        {
          "name": "stdout",
          "output_type": "stream",
          "text": [
            "Q1:  5.0 , Q3:  11.0 IQR:  6.0\n"
          ]
        }
      ],
      "source": [
        "quantiles = np.quantile(data['ReviewLength'], np.array([0.00, 0.25, 0.50, 0.75, 1.00]))\n",
        "Q1=quantiles[1]\n",
        "Q3=quantiles[3]\n",
        "IQR=Q3-Q1\n",
        "print(\"Q1: \", Q1, \", Q3: \", Q3, \"IQR: \", IQR)\n",
        "data = data[~((data['ReviewLength']<(Q1-1.5*IQR)) | (data['ReviewLength']>(Q3+1.5*IQR)))]"
      ]
    },
    {
      "cell_type": "code",
      "execution_count": null,
      "metadata": {
        "colab": {
          "base_uri": "https://localhost:8080/",
          "height": 711
        },
        "id": "5wCQ3NV77HCr",
        "outputId": "57e16bdc-d446-471f-c679-0f64a9b8c6b3"
      },
      "outputs": [
        {
          "name": "stderr",
          "output_type": "stream",
          "text": [
            "<ipython-input-22-745cbb8accaa>:5: UserWarning: FixedFormatter should only be used together with FixedLocator\n",
            "  ax.set_yticklabels(['Min','Q1','Median', 'Q3','Max'])\n"
          ]
        },
        {
          "data": {
            "image/png": "[encoded data removed]",
            "text/plain": [
              "<Figure size 600x800 with 1 Axes>"
            ]
          },
          "metadata": {},
          "output_type": "display_data"
        }
      ],
      "source": [
        "fig = plt.figure(figsize=(6, 8))\n",
        "ax = fig.add_subplot(111) \n",
        "ax.boxplot(data['ReviewLength'], vert=True, manage_ticks=True)\n",
        "ax.set_ylabel('Inter Quantile Range Values')\n",
        "ax.set_yticklabels(['Min','Q1','Median', 'Q3','Max'])\n",
        "ax.set_xticklabels(['Review Length'])\n",
        "quantiles = np.quantile(data['ReviewLength'], np.array([0.00, 0.25, 0.50, 0.75, 1.00]))\n",
        "ax.hlines(quantiles, [0] * quantiles.size, [1] * quantiles.size,\n",
        "          color='b', ls='dotted')\n",
        "ax.set_xlim(0.5, 1.5)\n",
        "ax.set_yticks(quantiles)\n",
        "#plt.savefig('boxPlotWithoutOutliers.jpg')\n",
        "plt.show()"
      ]
    },
    {
      "cell_type": "code",
      "execution_count": null,
      "metadata": {
        "colab": {
          "base_uri": "https://localhost:8080/",
          "height": 430
        },
        "id": "a-Yp7PMs7NId",
        "outputId": "989ec051-b031-4c82-da78-42609842eb1a"
      },
      "outputs": [
        {
          "data": {
            "image/png": "[encoded data removed]",
            "text/plain": [
              "<Figure size 640x480 with 1 Axes>"
            ]
          },
          "metadata": {},
          "output_type": "display_data"
        }
      ],
      "source": [
        "data['ReviewLength'].plot(kind ='box')\n",
        "#plt.savefig('boxPlotWithoutOutliers.jpg')\n",
        "plt.show()"
      ]
    },
    {
      "cell_type": "code",
      "execution_count": null,
      "metadata": {
        "colab": {
          "base_uri": "https://localhost:8080/"
        },
        "id": "k1-cS1d9_nNj",
        "outputId": "a1d1a920-fdca-4f53-a966-b3a307e646e1"
      },
      "outputs": [
        {
          "name": "stdout",
          "output_type": "stream",
          "text": [
            "              ReviewLength  Sentiment\n",
            "ReviewLength      1.000000  -0.062067\n",
            "Sentiment        -0.062067   1.000000\n"
          ]
        }
      ],
      "source": [
        "df1 = pd.DataFrame()\n",
        "df1['Sentiment'] = data['Sentiment']\n",
        "df1[\"Sentiment\"] = df1[\"Sentiment\"].replace(['Neutral'], 0)\n",
        "df1[\"Sentiment\"] = df1[\"Sentiment\"].replace(['Positive'], 1)\n",
        "df1[\"Sentiment\"] = df1[\"Sentiment\"].replace(['Negative'], -1)\n",
        "reviewLen = np.array(data['ReviewLength'])\n",
        "sentiment = np.array(df1['Sentiment'])\n",
        "arr = np.stack((reviewLen, sentiment), axis=1)\n",
        "df = pd.DataFrame(arr, columns=['ReviewLength', 'Sentiment'])\n",
        "pearson_correlation = df.corr(method='pearson')\n",
        "print(pearson_correlation)"
      ]
    },
    {
      "cell_type": "code",
      "execution_count": null,
      "metadata": {
        "colab": {
          "base_uri": "https://localhost:8080/"
        },
        "id": "SN6KkOV0_2gx",
        "outputId": "d65fc9a1-32b8-4e9b-e411-f708d18ea4ea"
      },
      "outputs": [
        {
          "data": {
            "text/plain": [
              "PearsonRResult(statistic=-0.06206725362605256, pvalue=0.16122470207460812)"
            ]
          },
          "execution_count": 34,
          "metadata": {},
          "output_type": "execute_result"
        }
      ],
      "source": [
        "import scipy.stats as stats\n",
        "pearson_correlation = stats.pearsonr(data['ReviewLength'], df1['Sentiment'])\n",
        "pearson_correlation"
      ]
    },
    {
      "cell_type": "code",
      "execution_count": null,
      "metadata": {
        "colab": {
          "base_uri": "https://localhost:8080/",
          "height": 539
        },
        "id": "kLHszYHKAKZV",
        "outputId": "8c390e37-ada7-419f-d71b-34d69fb38583"
      },
      "outputs": [
        {
          "name": "stdout",
          "output_type": "stream",
          "text": [
            "[[ 1.         -0.06206725]\n",
            " [-0.06206725  1.        ]]\n"
          ]
        },
        {
          "data": {
            "text/plain": [
              "<Figure size 2000x1000 with 0 Axes>"
            ]
          },
          "metadata": {},
          "output_type": "display_data"
        },
        {
          "data": {
            "image/png": "[encoded data removed]",
            "text/plain": [
              "<Figure size 640x480 with 2 Axes>"
            ]
          },
          "metadata": {},
          "output_type": "display_data"
        }
      ],
      "source": [
        "import statsmodels.graphics.api as smg\n",
        "\n",
        "# Correlation matrix\n",
        "plt.figure(figsize=(20, 10))\n",
        "correlation_matrix = np.corrcoef(df1['Sentiment'], data['ReviewLength'])\n",
        "print(correlation_matrix)\n",
        "\n",
        "# Correlation plot\n",
        "smg.plot_corr(correlation_matrix, xnames=['Sentiment', 'ReviewLength'])\n",
        "#plt.savefig('correlation2.jpg')\n",
        "plt.show()"
      ]
    },
    {
      "cell_type": "code",
      "execution_count": null,
      "metadata": {
        "colab": {
          "base_uri": "https://localhost:8080/"
        },
        "id": "JrkmL09NAQwr",
        "outputId": "88040ec8-8cac-4c30-c822-ad85c9b248ec"
      },
      "outputs": [
        {
          "name": "stdout",
          "output_type": "stream",
          "text": [
            "Statistical Value: 44.382890404591464\n",
            "Degrees of Freedom: 38\n",
            "p-value: 0.22055282309392626\n",
            "ACCEPT NULL HYPOTHESIS\n"
          ]
        }
      ],
      "source": [
        "from scipy.stats import chi2_contingency\n",
        "#if the review length is larger, the review of the product is negative\n",
        "contigency= pd.crosstab(data['ReviewLength'], df1['Sentiment'])\n",
        "contigency\n",
        "\n",
        "c, p, dof, expected = chi2_contingency(contigency)\n",
        "p\n",
        "\n",
        "print(\"Statistical Value: \" + str(c))\n",
        "print(\"Degrees of Freedom: \" + str(dof))\n",
        "print(\"p-value: \" + str(p)) \n",
        "#print(\"Expected value: \" + str(expected)) \n",
        "\n",
        "significance_level = 0.05\n",
        "if p <= significance_level: \n",
        "    print('REJECT NULL HYPOTHESIS') \n",
        "else: \n",
        "    print('ACCEPT NULL HYPOTHESIS')"
      ]
    },
    {
      "cell_type": "markdown",
      "source": [
        "#####Data Balancing"
      ],
      "metadata": {
        "id": "sLOWHcJUbjNv"
      }
    },
    {
      "cell_type": "code",
      "execution_count": 6,
      "metadata": {
        "colab": {
          "base_uri": "https://localhost:8080/"
        },
        "id": "Wj9zROo95gxX",
        "outputId": "62fa7d09-998c-487e-bc3a-47eea6fc40b4"
      },
      "outputs": [
        {
          "output_type": "stream",
          "name": "stdout",
          "text": [
            "Total Number of sample:  523\n",
            "Total Positive Data:  206\n",
            "Total Positive Data:  77\n",
            "Total Positive Data:  240\n"
          ]
        }
      ],
      "source": [
        "print(\"Total Number of sample: \", data.shape[0])\n",
        "print(\"Total Positive Data: \", len(data[data.Sentiment == 'Positive']))\n",
        "print(\"Total Positive Data: \", len(data[data.Sentiment == 'Negative']))\n",
        "print(\"Total Positive Data: \", len(data[data.Sentiment == 'Neutral']))"
      ]
    },
    {
      "cell_type": "code",
      "source": [
        "import numpy as np\n",
        "X = data.Review\n",
        "X = np.array(X) \n",
        "X = X.reshape(-1, 1)\n",
        "y = data.Sentiment\n",
        "y = np.array(y) \n",
        "y = y.reshape(-1, 1)"
      ],
      "metadata": {
        "id": "L_N8Wn03SwUk"
      },
      "execution_count": 7,
      "outputs": []
    },
    {
      "cell_type": "code",
      "source": [
        "import imblearn\n",
        "from imblearn.over_sampling import RandomOverSampler\n",
        "ros = RandomOverSampler(random_state=0)\n",
        "X_resampled, y_resampled = ros.fit_resample(X, y)"
      ],
      "metadata": {
        "id": "xpW9QGWQSS8k"
      },
      "execution_count": 8,
      "outputs": []
    },
    {
      "cell_type": "code",
      "source": [
        "df1 = pd.DataFrame(X_resampled, columns = ['Review'])\n",
        "data.Review = df1\n",
        "df2 = pd.DataFrame(y_resampled, columns = ['Sentiment'])\n",
        "data.Sentiment = df2"
      ],
      "metadata": {
        "id": "2vqkDCtbUDSK"
      },
      "execution_count": 9,
      "outputs": []
    },
    {
      "cell_type": "code",
      "source": [
        "df = pd.DataFrame([df2.Sentiment, df1.Review]).transpose()\n",
        "df.shape"
      ],
      "metadata": {
        "colab": {
          "base_uri": "https://localhost:8080/"
        },
        "id": "xys4iI8uatp-",
        "outputId": "7dede356-00e9-4aed-b7b0-53538c5736b9"
      },
      "execution_count": 10,
      "outputs": [
        {
          "output_type": "execute_result",
          "data": {
            "text/plain": [
              "(720, 2)"
            ]
          },
          "metadata": {},
          "execution_count": 10
        }
      ]
    },
    {
      "cell_type": "code",
      "source": [
        "data = df"
      ],
      "metadata": {
        "id": "QilxHSQEa_d7"
      },
      "execution_count": 11,
      "outputs": []
    },
    {
      "cell_type": "code",
      "source": [
        "print(\"Total Number of sample: \", data.shape[0])\n",
        "print(\"Total Positive Data: \", len(data[data.Sentiment == 'Positive']))\n",
        "print(\"Total Positive Data: \", len(data[data.Sentiment == 'Negative']))\n",
        "print(\"Total Positive Data: \", len(data[data.Sentiment == 'Neutral']))"
      ],
      "metadata": {
        "colab": {
          "base_uri": "https://localhost:8080/"
        },
        "id": "pZd8RK4pUiTc",
        "outputId": "82e5fc42-b0d2-4f6b-a351-fb1b2d2e5083"
      },
      "execution_count": null,
      "outputs": [
        {
          "output_type": "stream",
          "name": "stdout",
          "text": [
            "Total Number of sample:  720\n",
            "Total Positive Data:  240\n",
            "Total Positive Data:  240\n",
            "Total Positive Data:  240\n"
          ]
        }
      ]
    },
    {
      "cell_type": "markdown",
      "metadata": {
        "id": "DwgvY5wQkbAw"
      },
      "source": [
        "##### Data Cleaning"
      ]
    },
    {
      "cell_type": "code",
      "execution_count": 12,
      "metadata": {
        "id": "T1zUjgOokbAx"
      },
      "outputs": [],
      "source": [
        "# DATA CLEANING FUNCTION\n",
        "def process_reviews(Review):\n",
        "    # REMOVING UNNECESSARY PUNCTUATIONS\n",
        "    Review = re.sub('[^\\u0980-\\u09FF]',' ',Review)\n",
        "    return Review"
      ]
    },
    {
      "cell_type": "code",
      "execution_count": 13,
      "metadata": {
        "colab": {
          "base_uri": "https://localhost:8080/"
        },
        "id": "WIKyhLwCkbAy",
        "outputId": "50f446ca-da91-4c80-c7ff-dfccf458e669"
      },
      "outputs": [
        {
          "output_type": "stream",
          "name": "stdout",
          "text": [
            "\n",
            "Original Review: এতে ক্যামেরা নেই, ফেসবুক নেই আরও অনেক কিছু নেই \n",
            "Cleaned Review: এতে ক্যামেরা নেই  ফেসবুক নেই আরও অনেক কিছু নেই \n",
            "Sentiment: Negative\n",
            "\n",
            "Original Review: পুরা কাংগালীর হাসি। \n",
            "Cleaned Review: পুরা কাংগালীর হাসি  \n",
            "Sentiment: Positive\n",
            "\n",
            "Original Review: ! কাবাব এর মধ্যে ছিল চিকেন কাবাব, গ্রিল ক্রাব কাবাব, বিফ কাবাব। \n",
            "Cleaned Review:   কাবাব এর মধ্যে ছিল চিকেন কাবাব  গ্রিল ক্রাব কাবাব  বিফ কাবাব  \n",
            "Sentiment: Neutral\n",
            "\n",
            "Original Review: প্লেটার - কাচ্চি প্লেটার ৩ জন \n",
            "Cleaned Review: প্লেটার   কাচ্চি প্লেটার ৩ জন \n",
            "Sentiment: Negative\n",
            "\n",
            "Original Review: যেভাবে বর্ণনা দিলেন, মনে হইতেসে রাজা-বাদশারা চোখের সামনে ঘুরাঘুরি করতেছে। \n",
            "Cleaned Review: যেভাবে বর্ণনা দিলেন  মনে হইতেসে রাজা বাদশারা চোখের সামনে ঘুরাঘুরি করতেছে  \n",
            "Sentiment: Neutral\n"
          ]
        }
      ],
      "source": [
        "# APPLYING CLEANING FUNCTION\n",
        "data['Review_Cleaned'] = data['Review'].apply(process_reviews)\n",
        "\n",
        "sample_data = [75, 303, 316, 347, 324]\n",
        "for i in sample_data:\n",
        "     print('\\nOriginal Review:',data.Review[i],'\\nCleaned Review:',\n",
        "           data.Review_Cleaned[i],'\\nSentiment:',data.Sentiment[i])"
      ]
    },
    {
      "cell_type": "markdown",
      "metadata": {
        "id": "tvSVO0nakbAz"
      },
      "source": [
        "##### Data Summary (Low Level)"
      ]
    },
    {
      "cell_type": "code",
      "execution_count": null,
      "metadata": {
        "colab": {
          "base_uri": "https://localhost:8080/"
        },
        "id": "NZ_0jLgPkbA0",
        "outputId": "096c981c-ad83-4d93-cc95-447d0714f472"
      },
      "outputs": [
        {
          "output_type": "stream",
          "name": "stdout",
          "text": [
            "\n",
            "Class Name: Neutral\n",
            "Number of Documents: 241\n",
            "Number of Words: 2140\n",
            "Number of Unique Words: 1079\n",
            "Most Frequent Words:\n",
            "\n",
            "না\t33\n",
            "আমি\t28\n",
            "আমার\t24\n",
            "করে\t19\n",
            "এর\t18\n",
            "জন্য\t18\n",
            "পারেন\t17\n",
            "আর\t16\n",
            "এবং\t16\n",
            "আপনার\t14\n",
            "=================================================\n",
            "\n",
            "Class Name: Positive\n",
            "Number of Documents: 206\n",
            "Number of Words: 1759\n",
            "Number of Unique Words: 828\n",
            "Most Frequent Words:\n",
            "\n",
            "ভালো\t35\n",
            "এবং\t27\n",
            "খুব\t24\n",
            "আমি\t24\n",
            "সুন্দর\t22\n",
            "এর\t19\n",
            "একটি\t19\n",
            "১০\t18\n",
            "আর\t17\n",
            "এই\t17\n",
            "=================================================\n",
            "\n",
            "Class Name: Negative\n",
            "Number of Documents: 76\n",
            "Number of Words: 702\n",
            "Number of Unique Words: 466\n",
            "Most Frequent Words:\n",
            "\n",
            "না\t17\n",
            "আর\t11\n",
            "ছিল\t9\n",
            "করে\t9\n",
            "আমি\t8\n",
            "কিন্তু\t7\n",
            "অনেক\t7\n",
            "সব\t5\n",
            "অর্ডার\t5\n",
            "নেই\t5\n",
            "=================================================\n",
            "\n",
            "Total Number of Unique Words: 1801\n"
          ]
        }
      ],
      "source": [
        "def data_summary(dataset):\n",
        "    documents = []\n",
        "    words = []\n",
        "    u_words = []\n",
        "    total_u_words = [word.strip().lower() for t in list(dataset.Review_Cleaned) for word in t.strip().split()]\n",
        "    class_label= [k for k,v in dataset.Sentiment.value_counts().to_dict().items()]\n",
        "    \n",
        "    # FINDING WORD LIST\n",
        "    for label in class_label:\n",
        "        word_list = [word.strip().lower() for t in list(dataset[dataset.Sentiment==label].Review_Cleaned) for word in t.strip().split()]\n",
        "        counts = dict()\n",
        "        for word in word_list:\n",
        "            counts[word] = counts.get(word, 0) + 1\n",
        "        # SORTING THE DICTIONARY OF WORD LIST\n",
        "        ordered = sorted(counts.items(), key= lambda item: item[1],reverse = True)\n",
        "        # DOCUMENT COUNT\n",
        "        documents.append(len(list(dataset[dataset.Sentiment==label].Review_Cleaned)))\n",
        "        # WORD COUNT\n",
        "        words.append(len(word_list))\n",
        "        # UNIQUE WORD COUNT\n",
        "        u_words.append(len(np.unique(word_list)))\n",
        "\n",
        "        print(\"\\nClass Name:\",label)\n",
        "        print(\"Number of Documents: {}\".format(len(list(dataset[dataset.Sentiment==label].Review_Cleaned))))\n",
        "        print(\"Number of Words: {}\".format(len(word_list)))\n",
        "        print(\"Number of Unique Words: {}\".format(len(np.unique(word_list))))\n",
        "        print(\"Most Frequent Words:\\n\")\n",
        "        for k,v in ordered[:10]:\n",
        "              print(\"{}\\t{}\".format(k,v))\n",
        "        print(\"=================================================\")\n",
        "    print(\"\\nTotal Number of Unique Words: {}\".format(len(np.unique(total_u_words))))\n",
        "    return documents,words,u_words,class_label\n",
        "\n",
        "documents,words,u_words,class_names = data_summary(data)"
      ]
    },
    {
      "cell_type": "markdown",
      "source": [
        "##### Removing Stop Words"
      ],
      "metadata": {
        "id": "mVZmMZOZmYQa"
      }
    },
    {
      "cell_type": "code",
      "execution_count": 16,
      "metadata": {
        "colab": {
          "base_uri": "https://localhost:8080/"
        },
        "id": "wYaH-lmw1nMA",
        "outputId": "2bd0b927-c9de-4dfb-df03-95574ebaaad8"
      },
      "outputs": [
        {
          "output_type": "stream",
          "name": "stdout",
          "text": [
            "Looking in indexes: https://pypi.org/simple, https://us-python.pkg.dev/colab-wheels/public/simple/\n",
            "Collecting bangla-python\n",
            "  Downloading bangla_python-1.9-py3-none-any.whl (10 kB)\n",
            "Installing collected packages: bangla-python\n",
            "Successfully installed bangla-python-1.9\n"
          ]
        }
      ],
      "source": [
        "!pip install bangla-python"
      ]
    },
    {
      "cell_type": "code",
      "execution_count": 22,
      "metadata": {
        "id": "BuQW0_nW1nMB"
      },
      "outputs": [],
      "source": [
        "import bn\n",
        "#text='করিম অনেক ভালো ছেলে কিন্তু রহিম খুব খারাপ ছেলে।'\n",
        "data['Stop_Words_Removed'] = data.Review_Cleaned.apply(bn.remove_stopwords)\n",
        "data['Review_Cleaned'] = data.Review_Cleaned.apply(bn.remove_stopwords)"
      ]
    },
    {
      "cell_type": "markdown",
      "source": [
        "##### Stemming"
      ],
      "metadata": {
        "id": "Ivj5WbCmI4m8"
      }
    },
    {
      "cell_type": "code",
      "source": [
        "!pip install bnltk"
      ],
      "metadata": {
        "id": "mOQ5nafk96Ad"
      },
      "execution_count": null,
      "outputs": []
    },
    {
      "cell_type": "code",
      "source": [
        "# IMPORTING BNLTK IF ALREADY NOT IMPORTED\n",
        "from bnltk.stemmer import BanglaStemmer\n",
        "bn_stemmer = BanglaStemmer()\n",
        "\n",
        "# APPLYING STEMMING\n",
        "tempStemmedList = []\n",
        "for i in range(0, len(data)):\n",
        "  lst = data.Stop_Words_Removed[i].split()\n",
        "  for i, x in enumerate(lst):\n",
        "      lst[i] = bn_stemmer.stem(x)\n",
        "  tempStemmedList.append(' '.join([elem for elem in lst]))\n",
        "\n",
        "data['Stemmed_Review'] = tempStemmedList\n",
        "data.head()"
      ],
      "metadata": {
        "colab": {
          "base_uri": "https://localhost:8080/",
          "height": 206
        },
        "id": "xhYB46W4muw9",
        "outputId": "1097e301-9699-4a71-903e-66448691e55f"
      },
      "execution_count": 23,
      "outputs": [
        {
          "output_type": "execute_result",
          "data": {
            "text/plain": [
              "  Sentiment                                             Review  \\\n",
              "0  Positive                      দাম অনুযায়ী প্রোডাক্ট ঠিক আছে   \n",
              "1   Neutral  কিন্তু ওড়না পর্যন্ত সেলাই করে নিতে হবে সেটা আগ...   \n",
              "2  Negative                            প্রোডাক্টের মান ভালো না   \n",
              "3  Negative                                      কাপড়ে দাগ ছিল   \n",
              "4  Negative               তাছাড়া ছবিতে যেমটা বাস্তবে তেমনটা নয়   \n",
              "\n",
              "                       Review_Cleaned                  Stop_Words_Removed  \\\n",
              "0                      দাম প্রোডাক্ট                       দাম প্রোডাক্ট    \n",
              "1         ওড়না সেলাই দেয়ার দরকার ছিলো         ওড়না সেলাই দেয়ার দরকার ছিলো   \n",
              "2               প্রোডাক্টের মান ভালো                প্রোডাক্টের মান ভালো    \n",
              "3                          কাপড়ে দাগ                           কাপড়ে দাগ    \n",
              "4  তাছাড়া ছবিতে যেমটা বাস্তবে তেমনটা   তাছাড়া ছবিতে যেমটা বাস্তবে তেমনটা    \n",
              "\n",
              "               Stemmed_Review  \n",
              "0               দাম প্রোডাক্ট  \n",
              "1      ওড়না সেলা দেয় দরক ছিলো  \n",
              "2          প্রোডাক্ট মান ভালো  \n",
              "3                    কাপড় দাগ  \n",
              "4  তাছাড়া ছবি যেম বাস্তব তেমন  "
            ],
            "text/html": [
              "\n",
              "  <div id=\"df-a7601e87-0fb7-44c1-a5ec-a2483851f44e\">\n",
              "    <div class=\"colab-df-container\">\n",
              "      <div>\n",
              "<style scoped>\n",
              "    .dataframe tbody tr th:only-of-type {\n",
              "        vertical-align: middle;\n",
              "    }\n",
              "\n",
              "    .dataframe tbody tr th {\n",
              "        vertical-align: top;\n",
              "    }\n",
              "\n",
              "    .dataframe thead th {\n",
              "        text-align: right;\n",
              "    }\n",
              "</style>\n",
              "<table border=\"1\" class=\"dataframe\">\n",
              "  <thead>\n",
              "    <tr style=\"text-align: right;\">\n",
              "      <th></th>\n",
              "      <th>Sentiment</th>\n",
              "      <th>Review</th>\n",
              "      <th>Review_Cleaned</th>\n",
              "      <th>Stop_Words_Removed</th>\n",
              "      <th>Stemmed_Review</th>\n",
              "    </tr>\n",
              "  </thead>\n",
              "  <tbody>\n",
              "    <tr>\n",
              "      <th>0</th>\n",
              "      <td>Positive</td>\n",
              "      <td>দাম অনুযায়ী প্রোডাক্ট ঠিক আছে</td>\n",
              "      <td>দাম প্রোডাক্ট</td>\n",
              "      <td>দাম প্রোডাক্ট</td>\n",
              "      <td>দাম প্রোডাক্ট</td>\n",
              "    </tr>\n",
              "    <tr>\n",
              "      <th>1</th>\n",
              "      <td>Neutral</td>\n",
              "      <td>কিন্তু ওড়না পর্যন্ত সেলাই করে নিতে হবে সেটা আগ...</td>\n",
              "      <td>ওড়না সেলাই দেয়ার দরকার ছিলো</td>\n",
              "      <td>ওড়না সেলাই দেয়ার দরকার ছিলো</td>\n",
              "      <td>ওড়না সেলা দেয় দরক ছিলো</td>\n",
              "    </tr>\n",
              "    <tr>\n",
              "      <th>2</th>\n",
              "      <td>Negative</td>\n",
              "      <td>প্রোডাক্টের মান ভালো না</td>\n",
              "      <td>প্রোডাক্টের মান ভালো</td>\n",
              "      <td>প্রোডাক্টের মান ভালো</td>\n",
              "      <td>প্রোডাক্ট মান ভালো</td>\n",
              "    </tr>\n",
              "    <tr>\n",
              "      <th>3</th>\n",
              "      <td>Negative</td>\n",
              "      <td>কাপড়ে দাগ ছিল</td>\n",
              "      <td>কাপড়ে দাগ</td>\n",
              "      <td>কাপড়ে দাগ</td>\n",
              "      <td>কাপড় দাগ</td>\n",
              "    </tr>\n",
              "    <tr>\n",
              "      <th>4</th>\n",
              "      <td>Negative</td>\n",
              "      <td>তাছাড়া ছবিতে যেমটা বাস্তবে তেমনটা নয়</td>\n",
              "      <td>তাছাড়া ছবিতে যেমটা বাস্তবে তেমনটা</td>\n",
              "      <td>তাছাড়া ছবিতে যেমটা বাস্তবে তেমনটা</td>\n",
              "      <td>তাছাড়া ছবি যেম বাস্তব তেমন</td>\n",
              "    </tr>\n",
              "  </tbody>\n",
              "</table>\n",
              "</div>\n",
              "      <button class=\"colab-df-convert\" onclick=\"convertToInteractive('df-a7601e87-0fb7-44c1-a5ec-a2483851f44e')\"\n",
              "              title=\"Convert this dataframe to an interactive table.\"\n",
              "              style=\"display:none;\">\n",
              "        \n",
              "  <svg xmlns=\"http://www.w3.org/2000/svg\" height=\"24px\"viewBox=\"0 0 24 24\"\n",
              "       width=\"24px\">\n",
              "    <path d=\"M0 0h24v24H0V0z\" fill=\"none\"/>\n",
              "    <path d=\"M18.56 5.44l.94 2.06.94-2.06 2.06-.94-2.06-.94-.94-2.06-.94 2.06-2.06.94zm-11 1L8.5 8.5l.94-2.06 2.06-.94-2.06-.94L8.5 2.5l-.94 2.06-2.06.94zm10 10l.94 2.06.94-2.06 2.06-.94-2.06-.94-.94-2.06-.94 2.06-2.06.94z\"/><path d=\"M17.41 7.96l-1.37-1.37c-.4-.4-.92-.59-1.43-.59-.52 0-1.04.2-1.43.59L10.3 9.45l-7.72 7.72c-.78.78-.78 2.05 0 2.83L4 21.41c.39.39.9.59 1.41.59.51 0 1.02-.2 1.41-.59l7.78-7.78 2.81-2.81c.8-.78.8-2.07 0-2.86zM5.41 20L4 18.59l7.72-7.72 1.47 1.35L5.41 20z\"/>\n",
              "  </svg>\n",
              "      </button>\n",
              "      \n",
              "  <style>\n",
              "    .colab-df-container {\n",
              "      display:flex;\n",
              "      flex-wrap:wrap;\n",
              "      gap: 12px;\n",
              "    }\n",
              "\n",
              "    .colab-df-convert {\n",
              "      background-color: #E8F0FE;\n",
              "      border: none;\n",
              "      border-radius: 50%;\n",
              "      cursor: pointer;\n",
              "      display: none;\n",
              "      fill: #1967D2;\n",
              "      height: 32px;\n",
              "      padding: 0 0 0 0;\n",
              "      width: 32px;\n",
              "    }\n",
              "\n",
              "    .colab-df-convert:hover {\n",
              "      background-color: #E2EBFA;\n",
              "      box-shadow: 0px 1px 2px rgba(60, 64, 67, 0.3), 0px 1px 3px 1px rgba(60, 64, 67, 0.15);\n",
              "      fill: #174EA6;\n",
              "    }\n",
              "\n",
              "    [theme=dark] .colab-df-convert {\n",
              "      background-color: #3B4455;\n",
              "      fill: #D2E3FC;\n",
              "    }\n",
              "\n",
              "    [theme=dark] .colab-df-convert:hover {\n",
              "      background-color: #434B5C;\n",
              "      box-shadow: 0px 1px 3px 1px rgba(0, 0, 0, 0.15);\n",
              "      filter: drop-shadow(0px 1px 2px rgba(0, 0, 0, 0.3));\n",
              "      fill: #FFFFFF;\n",
              "    }\n",
              "  </style>\n",
              "\n",
              "      <script>\n",
              "        const buttonEl =\n",
              "          document.querySelector('#df-a7601e87-0fb7-44c1-a5ec-a2483851f44e button.colab-df-convert');\n",
              "        buttonEl.style.display =\n",
              "          google.colab.kernel.accessAllowed ? 'block' : 'none';\n",
              "\n",
              "        async function convertToInteractive(key) {\n",
              "          const element = document.querySelector('#df-a7601e87-0fb7-44c1-a5ec-a2483851f44e');\n",
              "          const dataTable =\n",
              "            await google.colab.kernel.invokeFunction('convertToInteractive',\n",
              "                                                     [key], {});\n",
              "          if (!dataTable) return;\n",
              "\n",
              "          const docLinkHtml = 'Like what you see? Visit the ' +\n",
              "            '<a target=\"_blank\" href=https://colab.research.google.com/notebooks/data_table.ipynb>data table notebook</a>'\n",
              "            + ' to learn more about interactive tables.';\n",
              "          element.innerHTML = '';\n",
              "          dataTable['output_type'] = 'display_data';\n",
              "          await google.colab.output.renderOutput(dataTable, element);\n",
              "          const docLink = document.createElement('div');\n",
              "          docLink.innerHTML = docLinkHtml;\n",
              "          element.appendChild(docLink);\n",
              "        }\n",
              "      </script>\n",
              "    </div>\n",
              "  </div>\n",
              "  "
            ]
          },
          "metadata": {},
          "execution_count": 23
        }
      ]
    },
    {
      "cell_type": "code",
      "source": [
        "def label_encoding(sentiment,bool):\n",
        "    le = LabelEncoder()\n",
        "    le.fit(sentiment)\n",
        "    encoded_labels = le.transform(sentiment)\n",
        "    # CONVERTING INTO NUMPY ARRAY\n",
        "    labels = np.array(encoded_labels)\n",
        "    # DEFINING THE CLASS NAMES\n",
        "    class_names = le.classes_\n",
        "    if bool == True:\n",
        "        print(\"\\n\\t\\t\\t===== Label Encoding =====\",\"\\nClass Names:-->\",le.classes_)\n",
        "        for i in sample_data:\n",
        "            print(sentiment[i],' ', encoded_labels[i],'\\n')\n",
        "\n",
        "    return labels\n",
        "\n",
        "def dataset_split(feature_space,sentiment):\n",
        "    X_train,X_test,y_train,y_test = train_test_split(feature_space,sentiment,train_size = 0.5,\n",
        "                                                  test_size = 0.5,random_state = 0)\n",
        "    print(\"\\nFeature Size :======>\",X_train.shape[1])\n",
        "    print(\"Dataset Distribution:\\n\")\n",
        "    print(\"\\tSet Name\",\"\\t\\tSize\")\n",
        "    print(\"\\t========\\t\\t======\")\n",
        "\n",
        "    print(\"\\tFull\\t\\t\\t\",feature_space.shape[0],\n",
        "        \"\\n\\tTraining\\t\\t\",X_train.shape[0],\n",
        "        \"\\n\\tTest\\t\\t\\t\",X_test.shape[0])\n",
        "  \n",
        "    return X_train,X_test,y_train,y_test"
      ],
      "metadata": {
        "id": "quNHJ-L-JJa-"
      },
      "execution_count": 24,
      "outputs": []
    },
    {
      "cell_type": "code",
      "source": [
        "data['cleaned'] = data.Stemmed_Review.apply(lambda x:x.replace('\\n',' '))"
      ],
      "metadata": {
        "id": "yd-4CuXuJmFl"
      },
      "execution_count": 25,
      "outputs": []
    },
    {
      "cell_type": "code",
      "source": [
        "data.head()"
      ],
      "metadata": {
        "colab": {
          "base_uri": "https://localhost:8080/",
          "height": 285
        },
        "id": "aQNFmCXjJ19l",
        "outputId": "816d5e96-4c49-4ab3-d07f-b483348300e9"
      },
      "execution_count": null,
      "outputs": [
        {
          "output_type": "execute_result",
          "data": {
            "text/plain": [
              "                                              Review Sentiment  \\\n",
              "0                      দাম অনুযায়ী প্রোডাক্ট ঠিক আছে  Positive   \n",
              "1  কিন্তু ওড়না পর্যন্ত সেলাই করে নিতে হবে সেটা আগ...   Neutral   \n",
              "2                            প্রোডাক্টের মান ভালো না  Negative   \n",
              "3                                      কাপড়ে দাগ ছিল  Negative   \n",
              "4               তাছাড়া ছবিতে যেমটা বাস্তবে তেমনটা নয়  Negative   \n",
              "\n",
              "                                      Review_Cleaned  \\\n",
              "0                      দাম অনুযায়ী প্রোডাক্ট ঠিক আছে   \n",
              "1  কিন্তু ওড়না পর্যন্ত সেলাই করে নিতে হবে সেটা আগ...   \n",
              "2                            প্রোডাক্টের মান ভালো না   \n",
              "3                                      কাপড়ে দাগ ছিল   \n",
              "4               তাছাড়া ছবিতে যেমটা বাস্তবে তেমনটা নয়   \n",
              "\n",
              "               Stop_Words_Removed                         cleaned  \n",
              "0      দাম অনুযায়ী প্রোডাক্ট ঠিক       দাম অনুযায়ী প্রোডাক্ট ঠিক   \n",
              "1         ওড়না সেলাই দেয়ার দরকার          ওড়না সেলাই দেয়ার দরকার   \n",
              "2         প্রোডাক্টের মান ভালো না         প্রোডাক্টের মান ভালো না  \n",
              "3                      কাপড়ে দাগ                       কাপড়ে দাগ   \n",
              "4   ছবিতে যেমটা বাস্তবে তেমনটা নয়   ছবিতে যেমটা বাস্তবে তেমনটা নয়  "
            ],
            "text/html": [
              "\n",
              "  <div id=\"df-4c360bd5-fd98-4923-a9c1-bd727516ca4d\">\n",
              "    <div class=\"colab-df-container\">\n",
              "      <div>\n",
              "<style scoped>\n",
              "    .dataframe tbody tr th:only-of-type {\n",
              "        vertical-align: middle;\n",
              "    }\n",
              "\n",
              "    .dataframe tbody tr th {\n",
              "        vertical-align: top;\n",
              "    }\n",
              "\n",
              "    .dataframe thead th {\n",
              "        text-align: right;\n",
              "    }\n",
              "</style>\n",
              "<table border=\"1\" class=\"dataframe\">\n",
              "  <thead>\n",
              "    <tr style=\"text-align: right;\">\n",
              "      <th></th>\n",
              "      <th>Review</th>\n",
              "      <th>Sentiment</th>\n",
              "      <th>Review_Cleaned</th>\n",
              "      <th>Stop_Words_Removed</th>\n",
              "      <th>cleaned</th>\n",
              "    </tr>\n",
              "  </thead>\n",
              "  <tbody>\n",
              "    <tr>\n",
              "      <th>0</th>\n",
              "      <td>দাম অনুযায়ী প্রোডাক্ট ঠিক আছে</td>\n",
              "      <td>Positive</td>\n",
              "      <td>দাম অনুযায়ী প্রোডাক্ট ঠিক আছে</td>\n",
              "      <td>দাম অনুযায়ী প্রোডাক্ট ঠিক</td>\n",
              "      <td>দাম অনুযায়ী প্রোডাক্ট ঠিক</td>\n",
              "    </tr>\n",
              "    <tr>\n",
              "      <th>1</th>\n",
              "      <td>কিন্তু ওড়না পর্যন্ত সেলাই করে নিতে হবে সেটা আগ...</td>\n",
              "      <td>Neutral</td>\n",
              "      <td>কিন্তু ওড়না পর্যন্ত সেলাই করে নিতে হবে সেটা আগ...</td>\n",
              "      <td>ওড়না সেলাই দেয়ার দরকার</td>\n",
              "      <td>ওড়না সেলাই দেয়ার দরকার</td>\n",
              "    </tr>\n",
              "    <tr>\n",
              "      <th>2</th>\n",
              "      <td>প্রোডাক্টের মান ভালো না</td>\n",
              "      <td>Negative</td>\n",
              "      <td>প্রোডাক্টের মান ভালো না</td>\n",
              "      <td>প্রোডাক্টের মান ভালো না</td>\n",
              "      <td>প্রোডাক্টের মান ভালো না</td>\n",
              "    </tr>\n",
              "    <tr>\n",
              "      <th>3</th>\n",
              "      <td>কাপড়ে দাগ ছিল</td>\n",
              "      <td>Negative</td>\n",
              "      <td>কাপড়ে দাগ ছিল</td>\n",
              "      <td>কাপড়ে দাগ</td>\n",
              "      <td>কাপড়ে দাগ</td>\n",
              "    </tr>\n",
              "    <tr>\n",
              "      <th>4</th>\n",
              "      <td>তাছাড়া ছবিতে যেমটা বাস্তবে তেমনটা নয়</td>\n",
              "      <td>Negative</td>\n",
              "      <td>তাছাড়া ছবিতে যেমটা বাস্তবে তেমনটা নয়</td>\n",
              "      <td>ছবিতে যেমটা বাস্তবে তেমনটা নয়</td>\n",
              "      <td>ছবিতে যেমটা বাস্তবে তেমনটা নয়</td>\n",
              "    </tr>\n",
              "  </tbody>\n",
              "</table>\n",
              "</div>\n",
              "      <button class=\"colab-df-convert\" onclick=\"convertToInteractive('df-4c360bd5-fd98-4923-a9c1-bd727516ca4d')\"\n",
              "              title=\"Convert this dataframe to an interactive table.\"\n",
              "              style=\"display:none;\">\n",
              "        \n",
              "  <svg xmlns=\"http://www.w3.org/2000/svg\" height=\"24px\"viewBox=\"0 0 24 24\"\n",
              "       width=\"24px\">\n",
              "    <path d=\"M0 0h24v24H0V0z\" fill=\"none\"/>\n",
              "    <path d=\"M18.56 5.44l.94 2.06.94-2.06 2.06-.94-2.06-.94-.94-2.06-.94 2.06-2.06.94zm-11 1L8.5 8.5l.94-2.06 2.06-.94-2.06-.94L8.5 2.5l-.94 2.06-2.06.94zm10 10l.94 2.06.94-2.06 2.06-.94-2.06-.94-.94-2.06-.94 2.06-2.06.94z\"/><path d=\"M17.41 7.96l-1.37-1.37c-.4-.4-.92-.59-1.43-.59-.52 0-1.04.2-1.43.59L10.3 9.45l-7.72 7.72c-.78.78-.78 2.05 0 2.83L4 21.41c.39.39.9.59 1.41.59.51 0 1.02-.2 1.41-.59l7.78-7.78 2.81-2.81c.8-.78.8-2.07 0-2.86zM5.41 20L4 18.59l7.72-7.72 1.47 1.35L5.41 20z\"/>\n",
              "  </svg>\n",
              "      </button>\n",
              "      \n",
              "  <style>\n",
              "    .colab-df-container {\n",
              "      display:flex;\n",
              "      flex-wrap:wrap;\n",
              "      gap: 12px;\n",
              "    }\n",
              "\n",
              "    .colab-df-convert {\n",
              "      background-color: #E8F0FE;\n",
              "      border: none;\n",
              "      border-radius: 50%;\n",
              "      cursor: pointer;\n",
              "      display: none;\n",
              "      fill: #1967D2;\n",
              "      height: 32px;\n",
              "      padding: 0 0 0 0;\n",
              "      width: 32px;\n",
              "    }\n",
              "\n",
              "    .colab-df-convert:hover {\n",
              "      background-color: #E2EBFA;\n",
              "      box-shadow: 0px 1px 2px rgba(60, 64, 67, 0.3), 0px 1px 3px 1px rgba(60, 64, 67, 0.15);\n",
              "      fill: #174EA6;\n",
              "    }\n",
              "\n",
              "    [theme=dark] .colab-df-convert {\n",
              "      background-color: #3B4455;\n",
              "      fill: #D2E3FC;\n",
              "    }\n",
              "\n",
              "    [theme=dark] .colab-df-convert:hover {\n",
              "      background-color: #434B5C;\n",
              "      box-shadow: 0px 1px 3px 1px rgba(0, 0, 0, 0.15);\n",
              "      filter: drop-shadow(0px 1px 2px rgba(0, 0, 0, 0.3));\n",
              "      fill: #FFFFFF;\n",
              "    }\n",
              "  </style>\n",
              "\n",
              "      <script>\n",
              "        const buttonEl =\n",
              "          document.querySelector('#df-4c360bd5-fd98-4923-a9c1-bd727516ca4d button.colab-df-convert');\n",
              "        buttonEl.style.display =\n",
              "          google.colab.kernel.accessAllowed ? 'block' : 'none';\n",
              "\n",
              "        async function convertToInteractive(key) {\n",
              "          const element = document.querySelector('#df-4c360bd5-fd98-4923-a9c1-bd727516ca4d');\n",
              "          const dataTable =\n",
              "            await google.colab.kernel.invokeFunction('convertToInteractive',\n",
              "                                                     [key], {});\n",
              "          if (!dataTable) return;\n",
              "\n",
              "          const docLinkHtml = 'Like what you see? Visit the ' +\n",
              "            '<a target=\"_blank\" href=https://colab.research.google.com/notebooks/data_table.ipynb>data table notebook</a>'\n",
              "            + ' to learn more about interactive tables.';\n",
              "          element.innerHTML = '';\n",
              "          dataTable['output_type'] = 'display_data';\n",
              "          await google.colab.output.renderOutput(dataTable, element);\n",
              "          const docLink = document.createElement('div');\n",
              "          docLink.innerHTML = docLinkHtml;\n",
              "          element.appendChild(docLink);\n",
              "        }\n",
              "      </script>\n",
              "    </div>\n",
              "  </div>\n",
              "  "
            ]
          },
          "metadata": {},
          "execution_count": 41
        }
      ]
    },
    {
      "cell_type": "markdown",
      "source": [
        "##### TF-IDF"
      ],
      "metadata": {
        "id": "ngSp0ovsiF0R"
      }
    },
    {
      "cell_type": "code",
      "source": [
        "def calc_gram_tfidf(reviews,gram):\n",
        "    tfidf = TfidfVectorizer(ngram_range=gram,use_idf=True, tokenizer=None) \n",
        "    X = tfidf.fit_transform(reviews)\n",
        "    \n",
        "    return tfidf,X"
      ],
      "metadata": {
        "id": "UtqhQxJfLEnz"
      },
      "execution_count": 26,
      "outputs": []
    },
    {
      "cell_type": "markdown",
      "source": [
        "##### Importing ML Models"
      ],
      "metadata": {
        "id": "xsQt8bYpiNHs"
      }
    },
    {
      "cell_type": "code",
      "source": [
        "from sklearn.linear_model import LogisticRegression\n",
        "from sklearn.tree import DecisionTreeClassifier\n",
        "from sklearn.ensemble import RandomForestClassifier\n",
        "from sklearn.neighbors import KNeighborsClassifier\n",
        "from sklearn.svm import SVC\n",
        "\n",
        "from sklearn.metrics import classification_report,accuracy_score,precision_score,recall_score,f1_score\n",
        "from sklearn.metrics import roc_curve, roc_auc_score\n",
        "from sklearn.metrics import average_precision_score,roc_auc_score, roc_curve, precision_recall_curve"
      ],
      "metadata": {
        "id": "d53p9RXBLQgV"
      },
      "execution_count": 27,
      "outputs": []
    },
    {
      "cell_type": "markdown",
      "source": [
        "##### Training"
      ],
      "metadata": {
        "id": "YZdyUxnziVxd"
      }
    },
    {
      "cell_type": "code",
      "source": [
        "from numpy.lib.function_base import average\n",
        "def ml_models_defination():\n",
        "    lr_model = LogisticRegression(multi_class='ovr', random_state = 123)\n",
        "    dt_model = DecisionTreeClassifier(criterion = 'entropy', random_state = 0)\n",
        "    rf_model = RandomForestClassifier(n_estimators=100, criterion ='entropy', random_state = 10)\n",
        "    knn_model = KNeighborsClassifier(n_neighbors=21, metric = 'euclidean')\n",
        "    lsvm_model = SVC(kernel = 'linear',C = 0.2, probability=True, random_state = 0)\n",
        "\n",
        "    model_names = ['Logistic Regression','Decision Tree','Random Forest','KNN','SVM']\n",
        "\n",
        "    ml_models = [lr_model,dt_model,rf_model,knn_model,lsvm_model]\n",
        "    return ml_models,model_names \n",
        "    \n",
        "\n",
        "def model_performace(model,X_train,X_test,y_train,y_test):\n",
        "    my_dict = {}\n",
        "    model.fit(X_train,y_train)\n",
        "    # PREDICTION\n",
        "    pred_y = model.predict(X_test)\n",
        "\n",
        "    my_dict['Accuracy'] = np.round(accuracy_score(y_test, pred_y), 4)*100 \n",
        "    my_dict['Precision'] = np.round(precision_score(y_test, pred_y,average='weighted',zero_division=0), 4)*100 \n",
        "    my_dict['Recall'] = np.round(recall_score(y_test, pred_y, average='weighted',zero_division=0), 4)*100 \n",
        "    my_dict['F1 Score'] = np.round(f1_score(y_test, pred_y, average='weighted',zero_division=0), 4)*100 \n",
        "    \n",
        "    return my_dict  \n",
        "    \n",
        "\n",
        "def performance_table(performance_dict):\n",
        "    acc_list = []\n",
        "    pr_list = []\n",
        "    re_list = []\n",
        "    f1_list = []\n",
        "    for i in performance_dict.keys():\n",
        "        acc_list.append(performance_dict[i]['Accuracy'])\n",
        "        pr_list.append(performance_dict[i]['Precision'])\n",
        "        re_list.append(performance_dict[i]['Recall'])\n",
        "        f1_list.append(performance_dict[i]['F1 Score'])\n",
        "\n",
        "    model_names = ['LR','DT','RF','KNN','SVM']\n",
        "    performance_df = pd.DataFrame({'Accuracy':acc_list,'Precision':pr_list,\n",
        "                                   'Recall':re_list,'F1 Score':f1_list,\n",
        "                                   'Model Name':model_names })\n",
        "    return performance_df"
      ],
      "metadata": {
        "id": "Zy0qeNyjLnjt"
      },
      "execution_count": 29,
      "outputs": []
    },
    {
      "cell_type": "markdown",
      "source": [
        "##### Testing"
      ],
      "metadata": {
        "id": "THxQa-BKlsAH"
      }
    },
    {
      "cell_type": "code",
      "source": [
        "gram_names = ['Unigram','Bigram','Trigram']\n",
        "ngrams = [(1,1),(1,2),(1,3)]\n",
        "path = \"/content/drive/MyDrive/DA Project/\"\n",
        "for i,gram in enumerate(ngrams):\n",
        "    tfidf,feature = calc_gram_tfidf(data.cleaned,gram)\n",
        "    labels = label_encoding(data.Sentiment,False)\n",
        "    X_train,X_test,y_train,y_test = dataset_split(feature,labels) \n",
        "    ml_models,model_names = ml_models_defination()\n",
        "\n",
        "    accuracy = {f'{model_names[j]}':model_performace(model,X_train,X_test,y_train,y_test) for j,model in enumerate(ml_models)}\n",
        "    print(accuracy)\n",
        "    \n",
        "    # SAVING THE PERFORMANCE PARAMETERS INTO JSON FILES\n",
        "    with open(path + f'ml_performance_{gram_names[i]}.json', 'w') as f:\n",
        "           json.dump(accuracy, f)"
      ],
      "metadata": {
        "colab": {
          "base_uri": "https://localhost:8080/"
        },
        "id": "TqKsoLigMSde",
        "outputId": "62690696-9523-483d-fa27-f0d5941e5411"
      },
      "execution_count": 31,
      "outputs": [
        {
          "output_type": "stream",
          "name": "stdout",
          "text": [
            "\n",
            "Feature Size :======> 446\n",
            "Dataset Distribution:\n",
            "\n",
            "\tSet Name \t\tSize\n",
            "\t========\t\t======\n",
            "\tFull\t\t\t 720 \n",
            "\tTraining\t\t 360 \n",
            "\tTest\t\t\t 360\n",
            "{'Logistic Regression': {'Accuracy': 61.67, 'Precision': 62.86000000000001, 'Recall': 61.67, 'F1 Score': 60.9}, 'Decision Tree': {'Accuracy': 60.28, 'Precision': 64.14, 'Recall': 60.28, 'F1 Score': 58.93000000000001}, 'Random Forest': {'Accuracy': 62.22, 'Precision': 64.35, 'Recall': 62.22, 'F1 Score': 61.339999999999996}, 'KNN': {'Accuracy': 40.28, 'Precision': 58.03, 'Recall': 40.28, 'F1 Score': 32.83}, 'SVM': {'Accuracy': 42.22, 'Precision': 39.879999999999995, 'Recall': 42.22, 'F1 Score': 32.42}}\n",
            "\n",
            "Feature Size :======> 1261\n",
            "Dataset Distribution:\n",
            "\n",
            "\tSet Name \t\tSize\n",
            "\t========\t\t======\n",
            "\tFull\t\t\t 720 \n",
            "\tTraining\t\t 360 \n",
            "\tTest\t\t\t 360\n",
            "{'Logistic Regression': {'Accuracy': 63.06, 'Precision': 64.31, 'Recall': 63.06, 'F1 Score': 62.050000000000004}, 'Decision Tree': {'Accuracy': 59.17, 'Precision': 64.64999999999999, 'Recall': 59.17, 'F1 Score': 57.86}, 'Random Forest': {'Accuracy': 61.39, 'Precision': 62.529999999999994, 'Recall': 61.39, 'F1 Score': 59.940000000000005}, 'KNN': {'Accuracy': 36.94, 'Precision': 66.25999999999999, 'Recall': 36.94, 'F1 Score': 26.13}, 'SVM': {'Accuracy': 38.61, 'Precision': 39.379999999999995, 'Recall': 38.61, 'F1 Score': 27.700000000000003}}\n",
            "\n",
            "Feature Size :======> 1828\n",
            "Dataset Distribution:\n",
            "\n",
            "\tSet Name \t\tSize\n",
            "\t========\t\t======\n",
            "\tFull\t\t\t 720 \n",
            "\tTraining\t\t 360 \n",
            "\tTest\t\t\t 360\n",
            "{'Logistic Regression': {'Accuracy': 61.94, 'Precision': 63.49, 'Recall': 61.94, 'F1 Score': 61.29}, 'Decision Tree': {'Accuracy': 57.220000000000006, 'Precision': 62.11, 'Recall': 57.220000000000006, 'F1 Score': 55.46}, 'Random Forest': {'Accuracy': 60.83, 'Precision': 62.35000000000001, 'Recall': 60.83, 'F1 Score': 59.36}, 'KNN': {'Accuracy': 36.39, 'Precision': 63.690000000000005, 'Recall': 36.39, 'F1 Score': 25.15}, 'SVM': {'Accuracy': 37.5, 'Precision': 40.81, 'Recall': 37.5, 'F1 Score': 26.150000000000002}}\n"
          ]
        }
      ]
    },
    {
      "cell_type": "code",
      "source": [
        "for gram in gram_names:\n",
        "  accuracy = json.load(open(path + f'ml_performance_{gram}.json'))\n",
        "  table = performance_table(accuracy)\n",
        "  print(f\"\\n========== Performace Table for {gram} feature:========\\n\",table)\n",
        "  print(f\"\\n========In case of {gram} feature:========\\n\")\n",
        "  print(f\"Highest Accuracy achieved by {table['Model Name'][table.Accuracy.idxmax(axis = 0)]} at = {np.round(max(table.Accuracy), 2)}\")\n",
        "  print(f\"Highest F1-Score achieved by {table['Model Name'][table['F1 Score'].idxmax(axis = 0)]} at = {np.round(max(table['F1 Score'] ), 2)}\")\n",
        "  print(f\"Highest Precision Score achieved by {table['Model Name'][table['Precision'].idxmax(axis = 0)]} at = {np.round(max(table['Precision'] ), 2)}\")\n",
        "  print(f\"Highest Recall Score achieved by {table['Model Name'][table['Recall'].idxmax(axis = 0)]} at = {np.round(max(table['Recall'] ), 2)}\")"
      ],
      "metadata": {
        "colab": {
          "base_uri": "https://localhost:8080/"
        },
        "id": "yWRQyKXTnmZB",
        "outputId": "5cd26fbb-a130-4cb5-ac1f-6fb99f53f355"
      },
      "execution_count": 32,
      "outputs": [
        {
          "output_type": "stream",
          "name": "stdout",
          "text": [
            "\n",
            "========== Performace Table for Unigram feature:========\n",
            "    Accuracy  Precision  Recall  F1 Score Model Name\n",
            "0     61.67      62.86   61.67     60.90         LR\n",
            "1     60.28      64.14   60.28     58.93         DT\n",
            "2     62.22      64.35   62.22     61.34         RF\n",
            "3     40.28      58.03   40.28     32.83        KNN\n",
            "4     42.22      39.88   42.22     32.42        SVM\n",
            "\n",
            "========In case of Unigram feature:========\n",
            "\n",
            "Highest Accuracy achieved by RF at = 62.22\n",
            "Highest F1-Score achieved by RF at = 61.34\n",
            "Highest Precision Score achieved by RF at = 64.35\n",
            "Highest Recall Score achieved by RF at = 62.22\n",
            "\n",
            "========== Performace Table for Bigram feature:========\n",
            "    Accuracy  Precision  Recall  F1 Score Model Name\n",
            "0     63.06      64.31   63.06     62.05         LR\n",
            "1     59.17      64.65   59.17     57.86         DT\n",
            "2     61.39      62.53   61.39     59.94         RF\n",
            "3     36.94      66.26   36.94     26.13        KNN\n",
            "4     38.61      39.38   38.61     27.70        SVM\n",
            "\n",
            "========In case of Bigram feature:========\n",
            "\n",
            "Highest Accuracy achieved by LR at = 63.06\n",
            "Highest F1-Score achieved by LR at = 62.05\n",
            "Highest Precision Score achieved by KNN at = 66.26\n",
            "Highest Recall Score achieved by LR at = 63.06\n",
            "\n",
            "========== Performace Table for Trigram feature:========\n",
            "    Accuracy  Precision  Recall  F1 Score Model Name\n",
            "0     61.94      63.49   61.94     61.29         LR\n",
            "1     57.22      62.11   57.22     55.46         DT\n",
            "2     60.83      62.35   60.83     59.36         RF\n",
            "3     36.39      63.69   36.39     25.15        KNN\n",
            "4     37.50      40.81   37.50     26.15        SVM\n",
            "\n",
            "========In case of Trigram feature:========\n",
            "\n",
            "Highest Accuracy achieved by LR at = 61.94\n",
            "Highest F1-Score achieved by LR at = 61.29\n",
            "Highest Precision Score achieved by KNN at = 63.69\n",
            "Highest Recall Score achieved by LR at = 61.94\n"
          ]
        }
      ]
    },
    {
      "cell_type": "markdown",
      "source": [
        "####Clustering"
      ],
      "metadata": {
        "id": "VXmQijaxcted"
      }
    },
    {
      "cell_type": "code",
      "source": [
        "# Length of each Reveiws\n",
        "data['length'] = data['Review'].apply(lambda x:len(x.split()))\n",
        "# Remove the reviews with least words\n",
        "dataset = data.loc[data.length>1]\n",
        "dataset = dataset.reset_index(drop = True)\n",
        "print(\"After Cleaning:\",\"\\nRemoved {} Small Reviews\".format(len(data)-len(dataset)),\n",
        "      \"\\nTotal Reviews:\",len(dataset))"
      ],
      "metadata": {
        "colab": {
          "base_uri": "https://localhost:8080/"
        },
        "id": "dDmRM4oTS7Fd",
        "outputId": "5f739f6e-70a9-4633-d6a7-fe088e06bb3e"
      },
      "execution_count": 38,
      "outputs": [
        {
          "output_type": "stream",
          "name": "stdout",
          "text": [
            "After Cleaning: \n",
            "Removed 10 Small Reviews \n",
            "Total Reviews: 710\n"
          ]
        }
      ]
    },
    {
      "cell_type": "code",
      "source": [
        "tfidf,feature = calc_gram_tfidf(data.Review,(1,3))\n",
        "#labels = label_encoding(data.Sentiment)\n",
        "    #X_train,X_test,y_train,y_test = dataset_split(feature,labels) \n",
        "\n",
        "from sklearn.cluster import KMeans\n",
        "kmeanModel = KMeans(n_clusters = 3)\n",
        "result = kmeanModel.fit_predict(feature)\n",
        "print(\"Hi\")\n",
        "result"
      ],
      "metadata": {
        "colab": {
          "base_uri": "https://localhost:8080/"
        },
        "id": "kP04kuJZcnnN",
        "outputId": "2c55082b-cb4a-4a34-f87a-253ae2caf5db"
      },
      "execution_count": 39,
      "outputs": [
        {
          "output_type": "stream",
          "name": "stdout",
          "text": [
            "Hi\n"
          ]
        },
        {
          "output_type": "stream",
          "name": "stderr",
          "text": [
            "/usr/local/lib/python3.10/dist-packages/sklearn/cluster/_kmeans.py:870: FutureWarning: The default value of `n_init` will change from 10 to 'auto' in 1.4. Set the value of `n_init` explicitly to suppress the warning\n",
            "  warnings.warn(\n"
          ]
        },
        {
          "output_type": "execute_result",
          "data": {
            "text/plain": [
              "array([2, 0, 0, 0, 1, 0, 0, 0, 0, 0, 0, 1, 0, 1, 1, 2, 2, 0, 0, 1, 1, 0,\n",
              "       0, 1, 1, 0, 0, 2, 2, 1, 0, 0, 0, 0, 0, 0, 2, 0, 1, 0, 0, 0, 0, 0,\n",
              "       1, 0, 0, 2, 2, 0, 0, 0, 0, 2, 0, 0, 2, 2, 0, 0, 0, 2, 0, 0, 0, 0,\n",
              "       0, 0, 0, 0, 0, 0, 0, 0, 1, 2, 0, 0, 1, 0, 0, 1, 0, 0, 0, 0, 0, 2,\n",
              "       0, 0, 0, 0, 0, 2, 0, 0, 0, 0, 0, 1, 1, 0, 0, 0, 0, 0, 2, 0, 0, 0,\n",
              "       0, 0, 0, 0, 2, 1, 0, 0, 0, 0, 0, 0, 1, 0, 0, 1, 0, 0, 0, 0, 0, 0,\n",
              "       2, 0, 0, 0, 2, 0, 0, 1, 2, 0, 0, 0, 2, 2, 0, 2, 2, 1, 0, 0, 0, 0,\n",
              "       2, 1, 1, 1, 1, 2, 1, 0, 2, 0, 2, 0, 2, 1, 2, 0, 0, 0, 0, 0, 0, 0,\n",
              "       0, 0, 0, 2, 0, 2, 0, 0, 0, 0, 0, 0, 0, 0, 1, 1, 0, 1, 0, 0, 0, 0,\n",
              "       0, 2, 0, 2, 2, 1, 0, 0, 0, 0, 0, 0, 0, 0, 0, 1, 1, 1, 1, 2, 0, 0,\n",
              "       0, 0, 0, 0, 0, 0, 0, 0, 0, 2, 0, 1, 2, 1, 0, 1, 2, 0, 1, 0, 0, 0,\n",
              "       0, 0, 0, 1, 0, 0, 0, 1, 1, 1, 0, 0, 0, 1, 1, 0, 0, 0, 0, 0, 0, 0,\n",
              "       0, 0, 0, 1, 0, 0, 0, 1, 0, 0, 0, 2, 0, 0, 0, 0, 0, 0, 0, 0, 0, 0,\n",
              "       0, 0, 0, 0, 0, 0, 0, 0, 2, 0, 0, 2, 0, 0, 0, 0, 0, 0, 0, 0, 0, 2,\n",
              "       0, 0, 0, 0, 0, 0, 2, 0, 0, 2, 2, 0, 0, 0, 0, 0, 0, 2, 0, 0, 2, 0,\n",
              "       1, 2, 1, 0, 0, 0, 0, 1, 0, 0, 0, 0, 2, 0, 0, 0, 2, 0, 0, 0, 0, 0,\n",
              "       0, 0, 0, 0, 0, 0, 0, 2, 0, 0, 0, 0, 0, 2, 0, 2, 0, 0, 0, 0, 0, 0,\n",
              "       0, 0, 0, 1, 1, 0, 0, 0, 0, 0, 0, 0, 0, 0, 0, 0, 0, 0, 0, 0, 0, 2,\n",
              "       0, 0, 0, 0, 0, 1, 0, 0, 0, 0, 0, 0, 2, 0, 2, 0, 0, 2, 1, 0, 0, 2,\n",
              "       0, 2, 2, 0, 0, 1, 0, 0, 1, 2, 0, 2, 0, 1, 1, 2, 0, 2, 0, 2, 2, 2,\n",
              "       2, 2, 0, 0, 0, 2, 2, 2, 1, 0, 2, 0, 0, 0, 0, 2, 0, 2, 1, 2, 2, 2,\n",
              "       0, 0, 0, 2, 0, 0, 2, 0, 1, 0, 0, 2, 0, 2, 2, 2, 1, 0, 0, 0, 2, 2,\n",
              "       2, 0, 0, 0, 2, 2, 2, 0, 0, 0, 1, 0, 0, 2, 0, 0, 0, 1, 2, 0, 0, 0,\n",
              "       0, 0, 0, 2, 2, 2, 0, 2, 0, 1, 2, 2, 0, 2, 1, 0, 2, 0, 1, 0, 2, 2,\n",
              "       1, 0, 0, 1, 2, 1, 0, 0, 1, 1, 2, 1, 1, 0, 2, 1, 0, 0, 2, 1, 1, 0,\n",
              "       0, 0, 0, 1, 1, 0, 0, 2, 0, 0, 0, 0, 1, 0, 0, 0, 0, 0, 0, 1, 2, 0,\n",
              "       1, 1, 0, 0, 0, 2, 1, 0, 1, 1, 0, 0, 0, 2, 1, 0, 0, 0, 0, 1, 0, 2,\n",
              "       0, 0, 0, 1, 0, 2, 0, 0, 2, 2, 0, 0, 2, 0, 1, 0, 0, 0, 0, 1, 0, 2,\n",
              "       0, 1, 0, 1, 0, 2, 1, 0, 0, 2, 1, 0, 1, 2, 0, 2, 1, 0, 0, 1, 0, 1,\n",
              "       1, 1, 0, 0, 0, 1, 1, 1, 1, 0, 0, 2, 1, 1, 0, 2, 0, 1, 1, 1, 1, 0,\n",
              "       0, 2, 2, 0, 0, 2, 1, 0, 0, 1, 1, 2, 0, 2, 0, 2, 2, 0, 1, 0, 2, 0,\n",
              "       0, 1, 2, 2, 0, 0, 0, 0, 0, 0, 0, 0, 0, 2, 0, 0, 1, 1, 0, 2, 0, 1,\n",
              "       1, 0, 0, 0, 0, 0, 2, 0, 0, 0, 0, 1, 0, 1, 2, 0], dtype=int32)"
            ]
          },
          "metadata": {},
          "execution_count": 39
        }
      ]
    },
    {
      "cell_type": "code",
      "source": [
        "data['Output'] = result"
      ],
      "metadata": {
        "id": "meYH-RQoZHU8"
      },
      "execution_count": 40,
      "outputs": []
    },
    {
      "cell_type": "code",
      "source": [
        "import matplotlib.pyplot as plt\n",
        "fig, axs = plt.subplots(2)\n",
        "cluster1 = data[data['Output'] == 0]\n",
        "cluster2 = data[data['Output'] == 1]\n",
        "cluster3 = data[data['Output'] == 2]\n",
        "group1 = data[data['Sentiment']=='Positive']\n",
        "group2 = data[data['Sentiment']=='Neutral']\n",
        "group3 = data[data['Sentiment']=='Negative']\n",
        "axs[0].scatter(cluster1['length'], cluster1['length'], color = 'g', label = 'Cluster 1')\n",
        "axs[0].scatter(cluster2['length'], cluster2['length'], color = 'r', label = 'Cluster 2')\n",
        "axs[0].scatter(cluster3['length'], cluster3['length'], color = 'b', label = 'Cluster 3')\n",
        "axs[0].legend()\n",
        "\n",
        "axs[1].scatter(group1['length'], group1['length'], color = 'y', label = 'Positive')\n",
        "axs[1].scatter(group2['length'], group2['length'], color = 'k', label = 'Neutral')\n",
        "axs[1].scatter(group3['length'], group3['length'], color = 'm', label = 'Negative')\n",
        "axs[1].legend()\n",
        "#plt.scatter(kmeanModel.cluster_centers_[:,0], kmeanModel.cluster_centers_[:,1], color = 'b', marker = '*', label = 'centroids')\n",
        "#plt.xlabel('Annual Income (k$)')\n",
        "#plt.ylabel('Spending Score (1-100)')\n",
        "plt.savefig('cluster.jpg')\n"
      ],
      "metadata": {
        "colab": {
          "base_uri": "https://localhost:8080/",
          "height": 430
        },
        "id": "JsTw22VIZhsa",
        "outputId": "8d0305ab-1ddf-4c5e-b2b2-9b3a7d97143e"
      },
      "execution_count": 41,
      "outputs": [
        {
          "output_type": "display_data",
          "data": {
            "text/plain": [
              "<Figure size 640x480 with 2 Axes>"
            ],
            "image/png": "[encoded data removed]"
          },
          "metadata": {}
        }
      ]
    },
    {
      "cell_type": "markdown",
      "source": [
        "##### LSTM"
      ],
      "metadata": {
        "id": "ys899im3_2_5"
      }
    },
    {
      "cell_type": "code",
      "source": [
        "from keras.preprocessing.text import Tokenizer\n",
        "from keras.utils import pad_sequences\n",
        "from keras.models import Sequential\n",
        "from keras.layers import LSTM,Dense,Embedding,SpatialDropout1D\n",
        "from keras.utils.np_utils import to_categorical"
      ],
      "metadata": {
        "id": "S3FoTYQsANLR"
      },
      "execution_count": 42,
      "outputs": []
    },
    {
      "cell_type": "code",
      "source": [
        "max_fatures = 2500\n",
        "tokenizer = Tokenizer(num_words=max_fatures, split=' ')\n",
        "tokenizer.fit_on_texts(data['cleaned'].values)\n",
        "X = tokenizer.texts_to_sequences(data['cleaned'].values)\n",
        "X = pad_sequences(X)"
      ],
      "metadata": {
        "id": "U6FXFshDARvR"
      },
      "execution_count": 43,
      "outputs": []
    },
    {
      "cell_type": "code",
      "source": [
        "embed_dim = 64\n",
        "model = Sequential()\n",
        "model.add(Embedding(max_fatures, embed_dim,input_length = X.shape[1]))\n",
        "model.add(SpatialDropout1D(0.4))\n",
        "model.add(LSTM(embed_dim, dropout=0.2, recurrent_dropout=0.2))\n",
        "model.add(Dense(3,activation='softmax'))\n",
        "model.compile(loss = 'categorical_crossentropy', optimizer='adam',metrics = ['acc'])\n",
        "model.summary()"
      ],
      "metadata": {
        "id": "3kQQy82WAUbZ",
        "colab": {
          "base_uri": "https://localhost:8080/"
        },
        "outputId": "31f9615f-7895-42e1-fa4d-b5efcd68bd68"
      },
      "execution_count": 45,
      "outputs": [
        {
          "output_type": "stream",
          "name": "stderr",
          "text": [
            "WARNING:tensorflow:Layer lstm_1 will not use cuDNN kernels since it doesn't meet the criteria. It will use a generic GPU kernel as fallback when running on GPU.\n"
          ]
        },
        {
          "output_type": "stream",
          "name": "stdout",
          "text": [
            "Model: \"sequential_1\"\n",
            "_________________________________________________________________\n",
            " Layer (type)                Output Shape              Param #   \n",
            "=================================================================\n",
            " embedding_1 (Embedding)     (None, 20, 64)            160000    \n",
            "                                                                 \n",
            " spatial_dropout1d_1 (Spatia  (None, 20, 64)           0         \n",
            " lDropout1D)                                                     \n",
            "                                                                 \n",
            " lstm_1 (LSTM)               (None, 64)                33024     \n",
            "                                                                 \n",
            " dense_1 (Dense)             (None, 3)                 195       \n",
            "                                                                 \n",
            "=================================================================\n",
            "Total params: 193,219\n",
            "Trainable params: 193,219\n",
            "Non-trainable params: 0\n",
            "_________________________________________________________________\n"
          ]
        }
      ]
    },
    {
      "cell_type": "code",
      "source": [
        "Y = pd.get_dummies(data['Sentiment']).values\n",
        "X_train, X_test, Y_train, Y_test = train_test_split(X,Y, test_size = 0.5,random_state = 42)\n",
        "print(X_train.shape,Y_train.shape)\n",
        "print(X_test.shape,Y_test.shape)"
      ],
      "metadata": {
        "id": "G2k_1z23AWoI",
        "colab": {
          "base_uri": "https://localhost:8080/"
        },
        "outputId": "fa6c3362-edf4-408d-ecf1-db339395033e"
      },
      "execution_count": 46,
      "outputs": [
        {
          "output_type": "stream",
          "name": "stdout",
          "text": [
            "(360, 20) (360, 3)\n",
            "(360, 20) (360, 3)\n"
          ]
        }
      ]
    },
    {
      "cell_type": "code",
      "source": [
        "history=model.fit(X_train, Y_train, epochs = 30, batch_size=32, verbose = 2,validation_split=0.25)"
      ],
      "metadata": {
        "id": "9vTycSPaAaSg",
        "colab": {
          "base_uri": "https://localhost:8080/"
        },
        "outputId": "85d65f9d-dee1-4298-c9f0-4f562d389765"
      },
      "execution_count": 47,
      "outputs": [
        {
          "output_type": "stream",
          "name": "stdout",
          "text": [
            "Epoch 1/30\n",
            "9/9 - 13s - loss: 1.0983 - acc: 0.3333 - val_loss: 1.0977 - val_acc: 0.3222 - 13s/epoch - 1s/step\n",
            "Epoch 2/30\n",
            "9/9 - 2s - loss: 1.0883 - acc: 0.3852 - val_loss: 1.0985 - val_acc: 0.3222 - 2s/epoch - 231ms/step\n",
            "Epoch 3/30\n",
            "9/9 - 2s - loss: 1.0753 - acc: 0.3815 - val_loss: 1.0930 - val_acc: 0.3222 - 2s/epoch - 189ms/step\n",
            "Epoch 4/30\n",
            "9/9 - 3s - loss: 1.0546 - acc: 0.4148 - val_loss: 1.0781 - val_acc: 0.3333 - 3s/epoch - 344ms/step\n",
            "Epoch 5/30\n",
            "9/9 - 2s - loss: 1.0203 - acc: 0.4963 - val_loss: 1.0588 - val_acc: 0.3556 - 2s/epoch - 214ms/step\n",
            "Epoch 6/30\n",
            "9/9 - 1s - loss: 0.9575 - acc: 0.5556 - val_loss: 1.0198 - val_acc: 0.4111 - 1s/epoch - 165ms/step\n",
            "Epoch 7/30\n",
            "9/9 - 2s - loss: 0.8402 - acc: 0.6296 - val_loss: 0.9278 - val_acc: 0.6556 - 2s/epoch - 170ms/step\n",
            "Epoch 8/30\n",
            "9/9 - 1s - loss: 0.6845 - acc: 0.8370 - val_loss: 0.8432 - val_acc: 0.5667 - 1s/epoch - 146ms/step\n",
            "Epoch 9/30\n",
            "9/9 - 2s - loss: 0.6215 - acc: 0.7963 - val_loss: 0.8127 - val_acc: 0.7222 - 2s/epoch - 172ms/step\n",
            "Epoch 10/30\n",
            "9/9 - 1s - loss: 0.4845 - acc: 0.9111 - val_loss: 0.7543 - val_acc: 0.6333 - 1s/epoch - 144ms/step\n",
            "Epoch 11/30\n",
            "9/9 - 2s - loss: 0.3437 - acc: 0.9148 - val_loss: 0.8037 - val_acc: 0.6444 - 2s/epoch - 168ms/step\n",
            "Epoch 12/30\n",
            "9/9 - 2s - loss: 0.2396 - acc: 0.9519 - val_loss: 0.7512 - val_acc: 0.6333 - 2s/epoch - 200ms/step\n",
            "Epoch 13/30\n",
            "9/9 - 2s - loss: 0.1818 - acc: 0.9630 - val_loss: 0.6038 - val_acc: 0.7444 - 2s/epoch - 237ms/step\n",
            "Epoch 14/30\n",
            "9/9 - 1s - loss: 0.1420 - acc: 0.9556 - val_loss: 0.7000 - val_acc: 0.7556 - 1s/epoch - 143ms/step\n",
            "Epoch 15/30\n",
            "9/9 - 1s - loss: 0.0931 - acc: 0.9852 - val_loss: 0.6582 - val_acc: 0.7444 - 970ms/epoch - 108ms/step\n",
            "Epoch 16/30\n",
            "9/9 - 1s - loss: 0.0889 - acc: 0.9741 - val_loss: 0.6882 - val_acc: 0.7667 - 782ms/epoch - 87ms/step\n",
            "Epoch 17/30\n",
            "9/9 - 1s - loss: 0.0731 - acc: 0.9926 - val_loss: 0.7513 - val_acc: 0.7444 - 941ms/epoch - 105ms/step\n",
            "Epoch 18/30\n",
            "9/9 - 1s - loss: 0.0753 - acc: 0.9778 - val_loss: 0.6554 - val_acc: 0.7444 - 1s/epoch - 147ms/step\n",
            "Epoch 19/30\n",
            "9/9 - 1s - loss: 0.0622 - acc: 0.9889 - val_loss: 0.7222 - val_acc: 0.7444 - 1s/epoch - 129ms/step\n",
            "Epoch 20/30\n",
            "9/9 - 1s - loss: 0.0472 - acc: 0.9889 - val_loss: 0.7012 - val_acc: 0.7556 - 818ms/epoch - 91ms/step\n",
            "Epoch 21/30\n",
            "9/9 - 2s - loss: 0.0353 - acc: 0.9889 - val_loss: 0.7259 - val_acc: 0.7444 - 2s/epoch - 188ms/step\n",
            "Epoch 22/30\n",
            "9/9 - 1s - loss: 0.0382 - acc: 0.9926 - val_loss: 0.8582 - val_acc: 0.6889 - 1s/epoch - 142ms/step\n",
            "Epoch 23/30\n",
            "9/9 - 2s - loss: 0.0418 - acc: 0.9852 - val_loss: 0.6964 - val_acc: 0.7556 - 2s/epoch - 229ms/step\n",
            "Epoch 24/30\n",
            "9/9 - 2s - loss: 0.0355 - acc: 0.9926 - val_loss: 0.6811 - val_acc: 0.7444 - 2s/epoch - 175ms/step\n",
            "Epoch 25/30\n",
            "9/9 - 1s - loss: 0.0332 - acc: 0.9963 - val_loss: 0.7628 - val_acc: 0.7333 - 767ms/epoch - 85ms/step\n",
            "Epoch 26/30\n",
            "9/9 - 1s - loss: 0.0265 - acc: 0.9926 - val_loss: 0.7688 - val_acc: 0.7222 - 1s/epoch - 116ms/step\n",
            "Epoch 27/30\n",
            "9/9 - 1s - loss: 0.0256 - acc: 0.9926 - val_loss: 0.8092 - val_acc: 0.7556 - 1s/epoch - 151ms/step\n",
            "Epoch 28/30\n",
            "9/9 - 1s - loss: 0.0181 - acc: 1.0000 - val_loss: 0.7641 - val_acc: 0.7556 - 969ms/epoch - 108ms/step\n",
            "Epoch 29/30\n",
            "9/9 - 1s - loss: 0.0186 - acc: 0.9963 - val_loss: 0.8120 - val_acc: 0.7556 - 826ms/epoch - 92ms/step\n",
            "Epoch 30/30\n",
            "9/9 - 1s - loss: 0.0134 - acc: 0.9963 - val_loss: 0.8412 - val_acc: 0.7556 - 991ms/epoch - 110ms/step\n"
          ]
        }
      ]
    },
    {
      "cell_type": "code",
      "source": [
        "score = model.evaluate(X_train, Y_train,batch_size=64, verbose=2)\n",
        "print('Train loss:', score[0])\n",
        "print('Train accuracy:', score[1])"
      ],
      "metadata": {
        "id": "t9DuCDoaAcTQ",
        "colab": {
          "base_uri": "https://localhost:8080/"
        },
        "outputId": "e63f44fc-cfc7-48cd-f4d8-0e4d0d5af1cc"
      },
      "execution_count": 48,
      "outputs": [
        {
          "output_type": "stream",
          "name": "stdout",
          "text": [
            "6/6 - 0s - loss: 0.2174 - acc: 0.9361 - 62ms/epoch - 10ms/step\n",
            "Train loss: 0.21736131608486176\n",
            "Train accuracy: 0.9361110925674438\n"
          ]
        }
      ]
    },
    {
      "cell_type": "code",
      "source": [
        "score = model.evaluate(X_test, Y_test,batch_size=64, verbose=2)\n",
        "print('Test loss:', score[0])\n",
        "print('Test accuracy:', score[1])"
      ],
      "metadata": {
        "id": "ADQZe9gFAeBA",
        "colab": {
          "base_uri": "https://localhost:8080/"
        },
        "outputId": "9bfc7635-8508-442d-ef3e-b7438a9ef397"
      },
      "execution_count": 49,
      "outputs": [
        {
          "output_type": "stream",
          "name": "stdout",
          "text": [
            "6/6 - 0s - loss: 1.0729 - acc: 0.6667 - 59ms/epoch - 10ms/step\n",
            "Test loss: 1.0729378461837769\n",
            "Test accuracy: 0.6666666865348816\n"
          ]
        }
      ]
    }
  ],
  "metadata": {
    "kernelspec": {
      "display_name": "Python 3",
      "language": "python",
      "name": "python3"
    },
    "language_info": {
      "codemirror_mode": {
        "name": "ipython",
        "version": 3
      },
      "file_extension": ".py",
      "mimetype": "text/x-python",
      "name": "python",
      "nbconvert_exporter": "python",
      "pygments_lexer": "ipython3",
      "version": "3.6.6"
    },
    "vscode": {
      "interpreter": {
        "hash": "9800be4961f7f5dc50a9053bc74d540e1900de7f0f201174a37146183ff00e52"
      }
    },
    "colab": {
      "provenance": [],
      "include_colab_link": true
    },
    "accelerator": "GPU",
    "gpuClass": "standard"
  },
  "nbformat": 4,
  "nbformat_minor": 0
}